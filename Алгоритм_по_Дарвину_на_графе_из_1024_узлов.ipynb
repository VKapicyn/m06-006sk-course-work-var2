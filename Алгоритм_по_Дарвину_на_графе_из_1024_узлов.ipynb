{
  "nbformat": 4,
  "nbformat_minor": 0,
  "metadata": {
    "colab": {
      "name": "Алгоритм по Дарвину на графе из 1024 узлов.ipynb",
      "provenance": [],
      "collapsed_sections": [],
      "toc_visible": true
    },
    "kernelspec": {
      "name": "python3",
      "display_name": "Python 3"
    }
  },
  "cells": [
    {
      "cell_type": "code",
      "metadata": {
        "id": "XB5sl660SpG0"
      },
      "source": [
        "import matplotlib.pyplot as plt\n",
        "from networkx import nx\n",
        "from networkx.readwrite import json_graph\n",
        "import json\n",
        "import math\n",
        "import random as rn\n",
        "import numpy as np\n",
        "import datetime as datetime\n",
        "from numpy.random import choice as np_choice"
      ],
      "execution_count": null,
      "outputs": []
    },
    {
      "cell_type": "markdown",
      "metadata": {
        "id": "vWiuNpld-uBh"
      },
      "source": [
        "# Создаем и сохраняем граф\n",
        "Создаем и записываем граф в файл, это необходимо, чтобы тестировать и обучать популяции по Ламарку и по Дарвину можно было в одинаковых условиях (на одинаковых графах).\n",
        "\n",
        "Также было принято решение отказаться от направленного графа для упрощения задачи. Сложность вызвало создание направленного графа в котором гарантировано будет хотя бы один маршрут из точки А в точку Б.*Курсив*"
      ]
    },
    {
      "cell_type": "code",
      "metadata": {
        "id": "tqt9se0v-0HC"
      },
      "source": [
        "def generate_graph(_iteration_number):\n",
        "  n = 1024  # TODO: 1024 nodes\n",
        "  m = 1200  # от N до 3xN ???\n",
        "  general_graph = nx.gnm_random_graph(n, m, directed=False)\n",
        "  export_graph = json_graph.node_link_data(general_graph)\n",
        "  with open('/content/sample_data/darvin_graph_'+iteration_number+'.json', 'w') as writefile:\n",
        "    writefile.write(json.dumps(export_graph))"
      ],
      "execution_count": null,
      "outputs": []
    },
    {
      "cell_type": "code",
      "metadata": {
        "id": "iMNGGp4HCAK4"
      },
      "source": [
        "iteration_number = '17'\n",
        "generate_graph(iteration_number)"
      ],
      "execution_count": null,
      "outputs": []
    },
    {
      "cell_type": "code",
      "metadata": {
        "id": "zKOgUDjdU1kO",
        "colab": {
          "base_uri": "https://localhost:8080/"
        },
        "outputId": "4fcc936c-ef48-4a5a-e93d-02b41f127218"
      },
      "source": [
        "# Считываем граф из файла\n",
        "file_name = \"darvin_graph_\"+iteration_number+\".json\"\n",
        "g = nx.DiGraph()\n",
        "with open('/content/sample_data/'+file_name, 'r') as readfile:\n",
        "  js_graph = json.load(readfile)\n",
        "  g = json_graph.node_link_graph(js_graph, directed=True)\n",
        "\n",
        "# итерация узлов\n",
        "if len(g.nodes)<50 :\n",
        "  for i in range(0, len(g.nodes)):\n",
        "    print(i)\n",
        "    print(g.edges(i))\n",
        "\n",
        "\n",
        "# Рисуем граф если граф тестовый (граф из 1024 точек адекватно не отображается)\n",
        "if len(g.nodes)<50 :\n",
        "  nx.draw(g, with_labels=True)\n",
        "  plt.show()\n",
        "\n",
        "print(\"Граф готов\")"
      ],
      "execution_count": null,
      "outputs": [
        {
          "output_type": "stream",
          "text": [
            "Граф готов\n"
          ],
          "name": "stdout"
        }
      ]
    },
    {
      "cell_type": "markdown",
      "metadata": {
        "id": "qe3cPWWvHTCv"
      },
      "source": [
        "# Новый раздел"
      ]
    },
    {
      "cell_type": "markdown",
      "metadata": {
        "id": "K9DwDc_STPax"
      },
      "source": [
        "# Генетический алгоритм, с популяцией по Дарвину\n",
        "Cчитаем что точка А - это G[0], точка B - это G[nodes-1].  \n",
        "\n",
        "0) Стартовая популция - число частиц в точке A. Задается, как гиперпараметр n_start. Частица имеет следюущую структуру:\n",
        "\n",
        "\n",
        "> coord - координаты местонахожления (вершина графа)  \n",
        "  w - вес частицы (стартовое значение 1)  \n",
        "  r - расстояние (длина кратчайшего пути от coord до точки B)\n",
        "\n",
        "\n",
        "1) Кажда частица совершает случайные блуждания по маршруту n_iterations эпох, пока не достигнет цели(точки B) или не \"умрет\":  \n",
        "> 1.1) Совершаем max_item_iterations случайных переходов частицей или пока частица не достигнем цели.  \n",
        "  1.2) Если частица достигла цели, инкрементируем число достигших цели точек и \"убиваем\" частицу. Если частица не достигла цели, пересчитываем её вес.  \n",
        "  1.3) Вес рассчитывается, как:  \n",
        "  ![image.png](data:image/png;base64,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)  \n",
        "   где i - текущая эпоха,    \n",
        "   r - расстояние от текущей точки до B  \n",
        "   e - константа ~2.72  \n",
        "  1.4) Если новый w(вес частицы) < 1, с вероятностью 1-w \"убиваем\" частицу.   \n",
        "  1.5) Если новый w(вес частицы) >= 2, расщепляем частицу на floor(w), с весами w/floor(w).\n",
        "\n",
        "2) Завершаем алгоритм, если все выжившие частицы достигли цели или если все частицы погибли или пройден лимит эпох.  \n",
        "3) Выводим число пройденных эпох, число частиц достигших цели, время выполнения алгоритма.\n"
      ]
    },
    {
      "cell_type": "code",
      "metadata": {
        "id": "ljfOiet7Xg4Q"
      },
      "source": [
        "class DarvinColony(object):\n",
        "\n",
        "  def __init__(self, graph, n_start, n_iterations, max_item_iterations, debug = False):\n",
        "    self.graph = graph # Итерируемый граф\n",
        "    self.distances  = nx.to_numpy_array(graph) # Матрица переходов\n",
        "    self.n_start = n_start # Размер начальной популяции\n",
        "    self.n_iterations = n_iterations # Число итераций блуждания\n",
        "    self.max_item_iterations = max_item_iterations # Максимальное число переходов за итерацию блуждания\n",
        "    self.debug = debug # Выводить логи?\n",
        "\n",
        "    self.quantums = [] # Массив частиц\n",
        "    self.targetIterations = 0 # Число затраченых итераций\n",
        "    self.targetQuantums = 0 # Число частиц достигших цели\n",
        "    self.summWeight = 0\n",
        "    self.allQ = n_start\n",
        "    self.time_start = 0 # Время старта итераций\n",
        "    self.time_end = 0 # Время завершения итераций\n",
        "\n",
        "  def getMetrics(self):\n",
        "    return {\n",
        "        'ratio': self.targetQuantums/self.n_start,\n",
        "        'targetPerSecond': self.targetQuantums/(self.time_end-self.time_start).total_seconds()\n",
        "    }\n",
        "  def getDispMetrics(self):\n",
        "    return {\n",
        "        'weight': self.summWeight/self.n_start,\n",
        "        'time': (self.time_end-self.time_start).total_seconds(),\n",
        "    }\n",
        "\n",
        "  # Запускаем итерации частиц (соответствует Шагу 1)\n",
        "  def run(self):\n",
        "    self.time_start = datetime.datetime.now()\n",
        "    best_way = len(nx.dijkstra_path(self.graph, 0, len(g.nodes)-1)) # Кратчайший путь от A до B\n",
        "    self.genQuantums(best_way)\n",
        "\n",
        "    self.targetIterations = self.n_iterations\n",
        "    for i in range(0, self.n_iterations):\n",
        "      #print(\"---- Итерация #{} ----\".format(i))\n",
        "      self.gen_all_paths() #  Каждая частица совершает случайные блуждания (Шаги 1.1-1.2)\n",
        "      self.recalcWeight() # Пересчет весов (Шаг 1.3)\n",
        "      self.kill() # Убийство частиц с учетом весов (Шаг 1.4)\n",
        "      self.reproduction() # Размножение чатиц с учетом весов (Шаг 1.5)\n",
        "      if len(self.quantums) == 0:\n",
        "        self.targetIterations = i\n",
        "        break\n",
        "    self.time_end = datetime.datetime.now()\n",
        "    \n",
        "    if self.debug:\n",
        "      print(\"---- Стартовые гиперпараметры ----\")\n",
        "      print(\"Кратчайший путь от A до B = {}\".format(best_way))\n",
        "      print(\"Начальный размер популяции {}, лимит итераций {}, лимит блужданий {}\".format(self.n_start, self.n_iterations, self.max_item_iterations))\n",
        "      print(\"---- Результаты ----\")\n",
        "      print(\"Число частиц достигших цели {}, за {} итераций, за время {} сек\".format(self.targetQuantums,  self.targetIterations, self.time_end - self.time_start))\n",
        "      print(\"Сумма весов {}\".format(self.summWeight/self.n_start))\n",
        "      print(\"Всего было создано частиц {}\".format(self.allQ))\n",
        "\n",
        "  # Инициализируем частицы\n",
        "  def genQuantums(self, best_way):\n",
        "    for i in range(0, self.n_start):\n",
        "      self.quantums.append({'coord': 0, 'w': 1, 'r': best_way})\n",
        "\n",
        "  def recalcWeight(self):\n",
        "    for i in range(0, len(self.quantums)):\n",
        "      prev_w = self.quantums[i]['w']\n",
        "      prev_r = self.quantums[i]['r']\n",
        "      prev_f = (2.72**((-1)*prev_r)) / (prev_r * prev_r) # фитнес функция на предыдущем шаге\n",
        "      \n",
        "      self.quantums[i]['r'] = len(nx.dijkstra_path(self.graph, self.quantums[i]['coord'], len(g.nodes)-1)) # обновляем меру близостии\n",
        "      next_f = (2.72**((-1)*self.quantums[i]['r'])) / (self.quantums[i]['r'] * self.quantums[i]['r']) # новая фитнес функция\n",
        "      self.quantums[i]['w'] = prev_w * (next_f/prev_f)\n",
        "  \n",
        "  def kill(self):\n",
        "    toKill = []\n",
        "    # механизм рулетки\n",
        "    for item, quantum in enumerate(self.quantums):\n",
        "      if quantum['w'] < 1 :\n",
        "        if rn.random() > quantum['w'] :\n",
        "          toKill.append(item)\n",
        "\n",
        "    #убиваем частицы выпавшие на рулекте\n",
        "    i = 0\n",
        "    for item in range(len(toKill)):\n",
        "      del self.quantums[item-i]\n",
        "      i += 1 \n",
        "\n",
        "  def reproduction(self):\n",
        "    toReproduct = []\n",
        "    for item, quantum in enumerate(self.quantums):\n",
        "      if quantum['w'] >= 2 :\n",
        "        toReproduct.append(item)\n",
        "\n",
        "    for i in toReproduct:\n",
        "      counts = math.floor(self.quantums[i]['w']) # число частиц, на которые делим\n",
        "      self.allQ = self.allQ + counts\n",
        "      for j in range(counts-1):\n",
        "        self.quantums[i]['w'] = self.quantums[i]['w']/counts\n",
        "        #TODO: число частиц больше\n",
        "        new_quant = {'coord': self.quantums[i]['coord'], 'w': self.quantums[i]['w'], 'r': self.quantums[i]['r']}\n",
        "        self.quantums.append(new_quant)\n",
        "\n",
        "  # Получение всех блужданий за одну итерацию\n",
        "  def gen_all_paths(self):\n",
        "    toKill = []\n",
        "    # генерируем случаыне блуждания для всех живых частиц\n",
        "    for item, quantum in enumerate(self.quantums):\n",
        "      target = self.gen_path(item) \n",
        "      if target == 1:\n",
        "        toKill.append(item)\n",
        "    \n",
        "    #убиваем частицы достигшие цели\n",
        "    i = 0\n",
        "    for item in range(len(toKill)):\n",
        "      del self.quantums[item-i]\n",
        "      i += 1\n",
        "\n",
        "  def gen_path(self, item):\n",
        "    prev = self.quantums[item]['coord']\n",
        "    i = 0\n",
        "    # совершаем переходы, пока не достигли вершины B или лимита блужданий\n",
        "    while (i < self.max_item_iterations):\n",
        "      neighbours = list(self.graph.adj[prev])\n",
        "      self.quantums[item]['coord'] = rn.choice(neighbours)\n",
        "      prev = self.quantums[item]['coord']\n",
        "      # если достигли точки B\n",
        "      if self.quantums[item]['coord'] == (len(g.nodes)-1):\n",
        "        self.targetQuantums = self.targetQuantums+1\n",
        "        self.summWeight = self.summWeight + self.quantums[item]['w']\n",
        "        return 1\n",
        "      i += 1\n",
        "    \n",
        "    return 0"
      ],
      "execution_count": null,
      "outputs": []
    },
    {
      "cell_type": "markdown",
      "metadata": {
        "id": "V-sphTM1YNm4"
      },
      "source": [
        "#Результаты испытаний с разными  гиперпараметрами "
      ]
    },
    {
      "cell_type": "code",
      "metadata": {
        "id": "5U7sm9AuX5sC"
      },
      "source": [
        "#TODO: запускаем в цикле тыщу раз и посмотреть на распределение  (с) Лёша\n",
        "colony = DarvinColony(g, 25, 20, 100, True)\n",
        "colony.run()\n",
        "\n",
        "print(colony.getMetrics())"
      ],
      "execution_count": null,
      "outputs": []
    },
    {
      "cell_type": "code",
      "metadata": {
        "colab": {
          "base_uri": "https://localhost:8080/"
        },
        "id": "PQq2LBtgL4qM",
        "outputId": "4dc3320b-b5bb-4246-a1f0-98c40fb06adc"
      },
      "source": [
        "results = []\n",
        "\n",
        "for i in range(0, 50):  \n",
        "  colony = DarvinColony(g, 25, 20, 50, False)\n",
        "  colony.run()\n",
        "  results.append(colony.getDispMetrics())\n",
        "  print(i)"
      ],
      "execution_count": null,
      "outputs": [
        {
          "output_type": "stream",
          "text": [
            "0\n",
            "1\n",
            "2\n",
            "3\n",
            "4\n",
            "5\n",
            "6\n",
            "7\n",
            "8\n",
            "9\n",
            "10\n",
            "11\n",
            "12\n",
            "13\n",
            "14\n",
            "15\n",
            "16\n",
            "17\n",
            "18\n",
            "19\n",
            "20\n",
            "21\n",
            "22\n",
            "23\n",
            "24\n",
            "25\n",
            "26\n",
            "27\n",
            "28\n",
            "29\n",
            "30\n",
            "31\n",
            "32\n",
            "33\n",
            "34\n",
            "35\n",
            "36\n",
            "37\n",
            "38\n",
            "39\n",
            "40\n",
            "41\n",
            "42\n",
            "43\n",
            "44\n",
            "45\n",
            "46\n",
            "47\n",
            "48\n",
            "49\n"
          ],
          "name": "stdout"
        }
      ]
    },
    {
      "cell_type": "code",
      "metadata": {
        "id": "eU37Kymmi3GZ",
        "colab": {
          "base_uri": "https://localhost:8080/"
        },
        "outputId": "b63c917d-8234-408f-89c2-b41afe39aeed"
      },
      "source": [
        "print(results)"
      ],
      "execution_count": null,
      "outputs": [
        {
          "output_type": "stream",
          "text": [
            "[{'weight': 2.4039171451303555e-55, 'time': 0.215835}, {'weight': 1.7757445320411664e-21, 'time': 0.196156}, {'weight': 3.2422651160418325e-39, 'time': 0.91122}, {'weight': 6.0779012451474586e-24, 'time': 0.43756}, {'weight': 0.0, 'time': 0.267515}, {'weight': 1.3824585594010513e-05, 'time': 0.489162}, {'weight': 0.0800000825624343, 'time': 236.922315}, {'weight': 3.1582542176080877e-05, 'time': 0.425485}, {'weight': 5.4240780382131425e-36, 'time': 0.192694}, {'weight': 0.04512107051537722, 'time': 0.533258}, {'weight': 0.0, 'time': 0.259971}, {'weight': 0.0, 'time': 0.123204}, {'weight': 9.856060295034458e-54, 'time': 0.293746}, {'weight': 0.00375456555171088, 'time': 0.186852}, {'weight': 0.040005973891852946, 'time': 10.6584}, {'weight': 0.0, 'time': 0.22862}, {'weight': 0.04, 'time': 0.138766}, {'weight': 2.283801368523968e-06, 'time': 0.142437}, {'weight': 0.08859559209218658, 'time': 50.868818}, {'weight': 0.0, 'time': 0.152729}, {'weight': 7.280552581368783e-20, 'time': 0.205126}, {'weight': 0.0002948189373793967, 'time': 3.860026}, {'weight': 0.0, 'time': 0.303108}, {'weight': 1.417918731436917e-08, 'time': 0.222284}, {'weight': 0.0, 'time': 0.132451}, {'weight': 0.20000011603580245, 'time': 705.369982}, {'weight': 7.479273266485905e-11, 'time': 0.184661}, {'weight': 0.0009772437688936376, 'time': 0.199882}, {'weight': 6.01196261980094e-26, 'time': 3.721496}, {'weight': 3.2318499397361164e-159, 'time': 0.449904}, {'weight': 0.0, 'time': 0.139652}, {'weight': 0.00026323641056374833, 'time': 1.422327}, {'weight': 0.040000000345833835, 'time': 0.977127}, {'weight': 0.0, 'time': 0.338354}, {'weight': 3.4176452615671575e-38, 'time': 1.131558}, {'weight': 5.81346679889136e-07, 'time': 0.274686}, {'weight': 0.0, 'time': 0.277726}, {'weight': 0.01492508823366488, 'time': 18.951098}, {'weight': 0.0800000825599672, 'time': 232.910317}, {'weight': 2.5644187908687114e-07, 'time': 0.297314}, {'weight': 7.280552581368783e-20, 'time': 0.245869}, {'weight': 0.04000004908413194, 'time': 234.279199}, {'weight': 0.08000295370016502, 'time': 233.55668}, {'weight': 5.368620537761129e-16, 'time': 1.196122}, {'weight': 0.02222201102893378, 'time': 0.215769}, {'weight': 0.00036149356227615706, 'time': 0.18522}, {'weight': 7.495751269324137e-11, 'time': 0.445324}, {'weight': 9.238409892624138e-22, 'time': 0.546696}, {'weight': 2.734210951586373e-06, 'time': 0.139301}, {'weight': 4.283461280557022e-27, 'time': 1.250349}]\n"
          ],
          "name": "stdout"
        }
      ]
    },
    {
      "cell_type": "code",
      "metadata": {
        "id": "pTYvJLckNd51"
      },
      "source": [
        "import matplotlib.pyplot as plt"
      ],
      "execution_count": null,
      "outputs": []
    },
    {
      "cell_type": "code",
      "metadata": {
        "id": "t4Z5sHx_ObWU"
      },
      "source": [
        "weights = []\n",
        "times = []\n",
        "\n",
        "for i in results:\n",
        "  weights.append(i['weight'])\n",
        "  times.append(i['time'])"
      ],
      "execution_count": null,
      "outputs": []
    },
    {
      "cell_type": "code",
      "metadata": {
        "colab": {
          "base_uri": "https://localhost:8080/",
          "height": 282
        },
        "id": "6sZhUV21NhvU",
        "outputId": "2c58952b-bd02-4a65-ec9e-b0f430bfeb00"
      },
      "source": [
        "plt.plot(weights)\n",
        "plt.show"
      ],
      "execution_count": null,
      "outputs": [
        {
          "output_type": "execute_result",
          "data": {
            "text/plain": [
              "<function matplotlib.pyplot.show>"
            ]
          },
          "metadata": {
            "tags": []
          },
          "execution_count": 57
        },
        {
          "output_type": "display_data",
          "data": {
            "image/png": "[encoded data removed]",
            "text/plain": [
              "<Figure size 432x288 with 1 Axes>"
            ]
          },
          "metadata": {
            "tags": [],
            "needs_background": "light"
          }
        }
      ]
    },
    {
      "cell_type": "code",
      "metadata": {
        "id": "I1qsWtFhcLCL",
        "colab": {
          "base_uri": "https://localhost:8080/",
          "height": 282
        },
        "outputId": "9e291551-0410-434a-b810-145e81956f7f"
      },
      "source": [
        "plt.plot(times)\n",
        "plt.show"
      ],
      "execution_count": null,
      "outputs": [
        {
          "output_type": "execute_result",
          "data": {
            "text/plain": [
              "<function matplotlib.pyplot.show>"
            ]
          },
          "metadata": {
            "tags": []
          },
          "execution_count": 55
        },
        {
          "output_type": "display_data",
          "data": {
            "image/png": "[encoded data removed]",
            "text/plain": [
              "<Figure size 432x288 with 1 Axes>"
            ]
          },
          "metadata": {
            "tags": [],
            "needs_background": "light"
          }
        }
      ]
    },
    {
      "cell_type": "code",
      "metadata": {
        "colab": {
          "base_uri": "https://localhost:8080/",
          "height": 267
        },
        "id": "HK5_NhG6PZdl",
        "outputId": "fc068f23-958d-4550-ebb2-3af43cf7a3ef"
      },
      "source": [
        "d = []\n",
        "for i in range(len(weights)):\n",
        "    d.append(np.var(weights[:i+1]))\n",
        "\n",
        "plt.plot(d)\n",
        "plt.show()"
      ],
      "execution_count": null,
      "outputs": [
        {
          "output_type": "display_data",
          "data": {
            "image/png": "[encoded data removed]",
            "text/plain": [
              "<Figure size 432x288 with 1 Axes>"
            ]
          },
          "metadata": {
            "tags": [],
            "needs_background": "light"
          }
        }
      ]
    },
    {
      "cell_type": "code",
      "metadata": {
        "colab": {
          "base_uri": "https://localhost:8080/"
        },
        "id": "VJhCiiQQP2ey",
        "outputId": "fec488b0-77cf-449c-e0d4-51487fb7abc2"
      },
      "source": [
        "st_weight = sum(weights)/len(weights)\n",
        "print(\"Средн: {}\".format(st_weight))\n",
        "st_time = sum(times)/len(times)\n",
        "print(\"Среднее время: {}\".format(st_time))\n",
        "print(\"FOM: {}\".format(1/(sum(d)/len(d))*st_time))"
      ],
      "execution_count": null,
      "outputs": [
        {
          "output_type": "stream",
          "text": [
            "Средний вес: 0.01553151311077522\n",
            "Среднее время: 34.941487020000004\n",
            "FOM: 34889.59163094942\n"
          ],
          "name": "stdout"
        }
      ]
    }
  ]
}