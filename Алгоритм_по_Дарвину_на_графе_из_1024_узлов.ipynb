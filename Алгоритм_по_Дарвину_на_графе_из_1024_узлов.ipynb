{
  "nbformat": 4,
  "nbformat_minor": 0,
  "metadata": {
    "colab": {
      "name": "Алгоритм по Дарвину на графе из 1024 узлов.ipynb",
      "provenance": [],
      "collapsed_sections": []
    },
    "kernelspec": {
      "name": "python3",
      "display_name": "Python 3"
    }
  },
  "cells": [
    {
      "cell_type": "code",
      "metadata": {
        "id": "XB5sl660SpG0"
      },
      "source": [
        "import matplotlib.pyplot as plt\n",
        "from networkx import nx\n",
        "from networkx.readwrite import json_graph\n",
        "import json\n",
        "import math\n",
        "import random as rn\n",
        "import numpy as np\n",
        "import datetime as datetime\n",
        "from numpy.random import choice as np_choice"
      ],
      "execution_count": 54,
      "outputs": []
    },
    {
      "cell_type": "markdown",
      "metadata": {
        "id": "vWiuNpld-uBh"
      },
      "source": [
        "# Создаем и сохраняем граф\n",
        "Создаем и записываем граф в файл, это необходимо, чтобы тестировать и обучать популяции по Ламарку и по Дарвину можно было в одинаковых условиях (на одинаковых графах).\n",
        "\n",
        "Также было принято решение отказаться от направленного графа для упрощения задачи. Сложность вызвало создание направленного графа в котором гарантировано будет хотя бы один маршрут из точки А в точку Б.*Курсив*"
      ]
    },
    {
      "cell_type": "code",
      "metadata": {
        "id": "tqt9se0v-0HC"
      },
      "source": [
        "def generate_graph(_iteration_number):\n",
        "  n = 1024  # TODO: 1024 nodes\n",
        "  m = 1200  # от N до 3xN ???\n",
        "  general_graph = nx.gnm_random_graph(n, m, directed=False)\n",
        "  export_graph = json_graph.node_link_data(general_graph)\n",
        "  with open('/content/sample_data/darvin_graph_'+iteration_number+'.json', 'w') as writefile:\n",
        "    writefile.write(json.dumps(export_graph))"
      ],
      "execution_count": 83,
      "outputs": []
    },
    {
      "cell_type": "code",
      "metadata": {
        "id": "iMNGGp4HCAK4"
      },
      "source": [
        "iteration_number = '17'\n",
        "generate_graph(iteration_number)"
      ],
      "execution_count": 84,
      "outputs": []
    },
    {
      "cell_type": "code",
      "metadata": {
        "id": "zKOgUDjdU1kO",
        "colab": {
          "base_uri": "https://localhost:8080/"
        },
        "outputId": "8b55ac3b-9b5f-47cf-8e8b-46292a9f737e"
      },
      "source": [
        "# Считываем граф из файла\n",
        "file_name = \"darvin_graph_\"+iteration_number+\".json\"\n",
        "g = nx.DiGraph()\n",
        "with open('/content/sample_data/'+file_name, 'r') as readfile:\n",
        "  js_graph = json.load(readfile)\n",
        "  g = json_graph.node_link_graph(js_graph, directed=True)\n",
        "\n",
        "# итерация узлов\n",
        "if len(g.nodes)<50 :\n",
        "  for i in range(0, len(g.nodes)):\n",
        "    print(i)\n",
        "    print(g.edges(i))\n",
        "\n",
        "\n",
        "# Рисуем граф если граф тестовый (граф из 1024 точек адекватно не отображается)\n",
        "if len(g.nodes)<50 :\n",
        "  nx.draw(g, with_labels=True)\n",
        "  plt.show()\n",
        "\n",
        "print(\"Граф готов\")"
      ],
      "execution_count": 85,
      "outputs": [
        {
          "output_type": "stream",
          "text": [
            "Граф готов\n"
          ],
          "name": "stdout"
        }
      ]
    },
    {
      "cell_type": "markdown",
      "metadata": {
        "id": "K9DwDc_STPax"
      },
      "source": [
        "# Генетический алгоритм, с популяцией по Дарвину\n",
        "Cчитаем что точка А - это G[0], точка B - это G[nodes-1].  \n",
        "\n",
        "0) Стартовая популция - число частиц в точке A. Задается, как гиперпараметр n_start. Частица имеет следюущую структуру:\n",
        "\n",
        "\n",
        "> coord - координаты местонахожления (вершина графа)  \n",
        "  w - вес частицы (стартовое значение 1)  \n",
        "  r - расстояние (длина кратчайшего пути от coord до точки B)\n",
        "\n",
        "\n",
        "1) Кажда частица совершает случайные блуждания по маршруту n_iterations раз, пока не достигнет цели(точки B) или не \"умрет\":  \n",
        "> 1.1) Совершаем max_item_iterations случайных переходов частицей или пока не достигнем цели.  \n",
        "  1.2) Если частица достигла цели, инкрементируем число достигших цели точек и \"убиваем\" частицу. Если частица не достигла цели, пересчитываем её вес.  \n",
        "  1.3) Вес рассчитывается, как:  \n",
        "  ![Снимок экрана 2020-12-02 в 11.33.41.png](data:image/png;base64,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)  \n",
        "   где i - текущая итерация,    \n",
        "   r - расстояние от текущей точки до B  \n",
        "   e - константа ~2.72  \n",
        "  1.4) Если новый w(вес частицы) < 1, с вероятностью 1-w \"убиваем\" частицу.   \n",
        "  1.5) Если новый w(вес частицы) >= 2, расщепляем частицу на floor(w), с весами w/floor(w).\n",
        "\n",
        "2) Завершаем алгоритм, если все выжившие частицы достигли цели или если все частицы погибли или пройден лимит итераций.\n",
        "3) Выводим число пройденных итераций, число частиц достигших цели, время выполнения алгоритма.\n"
      ]
    },
    {
      "cell_type": "markdown",
      "metadata": {
        "id": "dsCMT3rfmwt5"
      },
      "source": [
        "# FIXME: \n",
        "Веса рассчитываются рандомно, а не поформуле.  \n",
        "Есть баг в подсчете число достигнуых целей"
      ]
    },
    {
      "cell_type": "code",
      "metadata": {
        "id": "ljfOiet7Xg4Q"
      },
      "source": [
        "class DarvinColony(object):\n",
        "\n",
        "  def __init__(self, graph, n_start, n_iterations, max_item_iterations, debug = False):\n",
        "    self.graph = graph # Итерируемый граф\n",
        "    self.distances  = nx.to_numpy_array(graph) # Матрица переходов\n",
        "    self.n_start = n_start # Размер начальной популяции\n",
        "    self.n_iterations = n_iterations # Число итераций блуждания\n",
        "    self.max_item_iterations = max_item_iterations # Максимальное число переходов за итерацию блуждания\n",
        "    self.debug = debug # Выводить логи?\n",
        "\n",
        "    self.quantums = [] # Массив частиц\n",
        "    self.targetIterations = 0 # Число затраченых итераций\n",
        "    self.targetQuantums = 0 # Число частиц достигших цели\n",
        "    self.time_start = 0 # Время старта итераций\n",
        "    self.time_end = 0 # Время завершения итераций\n",
        "\n",
        "  def getMetrics(self):\n",
        "    return {\n",
        "        'ratio': self.targetQuantums/self.n_start,\n",
        "        'targetPerSecond': self.targetQuantums/(self.time_end-self.time_start).total_seconds()\n",
        "    }\n",
        "\n",
        "  # Запускаем итерации частиц (соответствует Шагу 1)\n",
        "  def run(self):\n",
        "    self.time_start = datetime.datetime.now()\n",
        "    best_way = len(nx.dijkstra_path(self.graph, 0, len(g.nodes)-1)) # Кратчайший путь от A до B\n",
        "    self.genQuantums(best_way)\n",
        "\n",
        "    self.targetIterations = self.n_iterations\n",
        "    for i in range(0, self.n_iterations):\n",
        "      #print(\"---- Итерация #{} ----\".format(i))\n",
        "      self.gen_all_paths() #  Каждая частица совершает случайные блуждания (Шаги 1.1-1.2)\n",
        "      self.recalcWeight() # Пересчет весов (Шаг 1.3)\n",
        "      self.kill() # Убийство частиц с учетом весов (Шаг 1.4)\n",
        "      self.reproduction() # Размножение чатиц с учетом весов (Шаг 1.5)\n",
        "      if len(self.quantums) == 0:\n",
        "        self.targetIterations = i\n",
        "        break\n",
        "    self.time_end = datetime.datetime.now()\n",
        "    \n",
        "    if self.debug:\n",
        "      print(\"---- Стартовые гиперпараметры ----\")\n",
        "      print(\"Кратчайший путь от A до B = {}\".format(best_way))\n",
        "      print(\"Начальный размер популяции {}, лимит итераций {}, лимит блужданий {}\".format(self.n_start, self.n_iterations, self.max_item_iterations))\n",
        "      print(\"---- Результаты ----\")\n",
        "      print(\"Число частиц достигших цели {}, за {} итераций, за время {} сек\".format(self.targetQuantums,  self.targetIterations, self.time_end - self.time_start))\n",
        "\n",
        "  # Инициализируем частицы\n",
        "  def genQuantums(self, best_way):\n",
        "    for i in range(0, self.n_start):\n",
        "      self.quantums.append({'coord': 0, 'w': 1, 'r': best_way})\n",
        "\n",
        "  def recalcWeight(self):\n",
        "    for i in range(0, len(self.quantums)):\n",
        "      prev_w = self.quantums[i]['w']\n",
        "      prev_r = self.quantums[i]['r']\n",
        "      prev_f = (2.72**((-1)*prev_r)) / (prev_r * prev_r) # фитнес функция на предыдущем шаге\n",
        "      \n",
        "      self.quantums[i]['r'] = len(nx.dijkstra_path(self.graph, self.quantums[i]['coord'], len(g.nodes)-1)) # обновляем меру близостии\n",
        "      next_f = (2.72**((-1)*self.quantums[i]['r'])) / (self.quantums[i]['r'] * self.quantums[i]['r']) # новая фитнес функция\n",
        "      self.quantums[i]['w'] = prev_w * (prev_f/next_f)\n",
        "  \n",
        "  def kill(self):\n",
        "    toKill = []\n",
        "    # механизм рулетки\n",
        "    for item, quantum in enumerate(self.quantums):\n",
        "      if quantum['w'] < 1 :\n",
        "        if rn.random() > quantum['w'] :\n",
        "          toKill.append(item)\n",
        "\n",
        "    #убиваем частицы выпавшие на рулекте\n",
        "    i = 0\n",
        "    for item in range(len(toKill)):\n",
        "      del self.quantums[item-i]\n",
        "      i += 1 \n",
        "\n",
        "  def reproduction(self):\n",
        "    toReproduct = []\n",
        "    for item, quantum in enumerate(self.quantums):\n",
        "      if quantum['w'] >= 2 :\n",
        "        toReproduct.append(item)\n",
        "\n",
        "    for i in range(len(toReproduct)):\n",
        "      counts = math.floor(self.quantums[i]['w']) # число частиц, на которые делим\n",
        "      self.quantums[i]['w'] = self.quantums[i]['w']/2\n",
        "      new_quant = {'coord': self.quantums[i]['coord'], 'w': self.quantums[i]['w'], 'r': self.quantums[i]['r']}\n",
        "      self.quantums.append(new_quant)\n",
        "\n",
        "  # Получение всех блужданий за одну итерацию\n",
        "  def gen_all_paths(self):\n",
        "    toKill = []\n",
        "    # генерируем случаыне блуждания для всех живых частиц\n",
        "    for item, quantum in enumerate(self.quantums):\n",
        "      target = self.gen_path(item) \n",
        "      if target == 1:\n",
        "        toKill.append(item)\n",
        "    \n",
        "    #убиваем частицы достигшие цели\n",
        "    i = 0\n",
        "    for item in range(len(toKill)):\n",
        "      del self.quantums[item-i]\n",
        "      i += 1\n",
        "\n",
        "  def gen_path(self, item):\n",
        "    prev = self.quantums[item]['coord']\n",
        "    i = 0\n",
        "    # совершаем переходы, пока не достигли вершины B или лимита блужданий\n",
        "    while (i < self.max_item_iterations):\n",
        "      neighbours = list(self.graph.adj[prev])\n",
        "      self.quantums[item]['coord'] = rn.choice(neighbours)\n",
        "      prev = self.quantums[item]['coord']\n",
        "      # если достигли точки B\n",
        "      if self.quantums[item]['coord'] == (len(g.nodes)-1):\n",
        "        self.targetQuantums = self.targetQuantums+1\n",
        "        return 1\n",
        "      i += 1\n",
        "    \n",
        "    return 0"
      ],
      "execution_count": 61,
      "outputs": []
    },
    {
      "cell_type": "markdown",
      "metadata": {
        "id": "V-sphTM1YNm4"
      },
      "source": [
        "#Результаты испытаний с разными  гиперпараметрами "
      ]
    },
    {
      "cell_type": "code",
      "metadata": {
        "colab": {
          "base_uri": "https://localhost:8080/"
        },
        "id": "5U7sm9AuX5sC",
        "outputId": "4549bde1-11e1-4bea-cedd-c93c89385926"
      },
      "source": [
        "#TODO: запускаем в цикле с различными параметрами\n",
        "colony = DarvinColony(g, 20, 10, 1000, True)\n",
        "colony.run()\n",
        "\n",
        "print(colony.getMetrics())"
      ],
      "execution_count": 86,
      "outputs": [
        {
          "output_type": "stream",
          "text": [
            "---- Стартовые гиперпараметры ----\n",
            "Кратчайший путь от A до B = 7\n",
            "Начальный размер популяции 20, лимит итераций 10, лимит блужданий 1000\n",
            "---- Результаты ----\n",
            "Число частиц достигших цели 19, за 7 итераций, за время 0:00:00.240978 сек\n",
            "{'ratio': 0.95, 'targetPerSecond': 78.84537177667671}\n"
          ],
          "name": "stdout"
        }
      ]
    }
  ]
}