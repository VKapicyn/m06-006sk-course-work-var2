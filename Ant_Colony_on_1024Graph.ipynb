{
  "nbformat": 4,
  "nbformat_minor": 0,
  "metadata": {
    "colab": {
      "name": "Ant_Colony_on_1024Graph.ipynb",
      "provenance": [],
      "authorship_tag": "ABX9TyPflwuxDlF51rQhky7qp2Cj",
      "include_colab_link": true
    },
    "kernelspec": {
      "name": "python3",
      "display_name": "Python 3"
    }
  },
  "cells": [
    {
      "cell_type": "markdown",
      "metadata": {
        "id": "view-in-github",
        "colab_type": "text"
      },
      "source": [
        "<a href=\"https://colab.research.google.com/github/VKapicyn/m06-006sk-course-work-var2/blob/master/Ant_Colony_on_1024Graph.ipynb\" target=\"_parent\"><img src=\"https://colab.research.google.com/assets/colab-badge.svg\" alt=\"Open In Colab\"/></a>"
      ]
    },
    {
      "cell_type": "markdown",
      "metadata": {
        "id": "zWHzkjJcIPI1"
      },
      "source": [
        "# Эксперименты с графом"
      ]
    },
    {
      "cell_type": "code",
      "metadata": {
        "id": "scuSTt40l3fr"
      },
      "source": [
        "import networkx as nx\r\n",
        "import time"
      ],
      "execution_count": 39,
      "outputs": []
    },
    {
      "cell_type": "code",
      "metadata": {
        "id": "AulqcIMPgiDJ"
      },
      "source": [
        "G = nx.gnm_random_graph(1024, 4000, directed=False)"
      ],
      "execution_count": 3,
      "outputs": []
    },
    {
      "cell_type": "code",
      "metadata": {
        "id": "FNQ6WgpB2jO1",
        "colab": {
          "base_uri": "https://localhost:8080/"
        },
        "outputId": "1dd78498-c3ce-4807-c4f4-44a340bcaac5"
      },
      "source": [
        "sum = 0\n",
        "zeros = 0\n",
        "for i in G:\n",
        "  sum += G.degree[i]\n",
        "  if G.degree[i] == 0:\n",
        "    zeros += 1\n",
        "print(sum/G.number_of_nodes())\n",
        "print(zeros)"
      ],
      "execution_count": 4,
      "outputs": [
        {
          "output_type": "stream",
          "text": [
            "7.8125\n",
            "0\n"
          ],
          "name": "stdout"
        }
      ]
    },
    {
      "cell_type": "code",
      "metadata": {
        "id": "ESxrSW_M5S-Y",
        "colab": {
          "base_uri": "https://localhost:8080/"
        },
        "outputId": "15151377-fba5-4f88-ab15-de1133cf6bf6"
      },
      "source": [
        "k = 0\n",
        "for i in range(0,1024):\n",
        "  if nx.has_path(G,6,i):\n",
        "    k += 1\n",
        "print(k)"
      ],
      "execution_count": null,
      "outputs": [
        {
          "output_type": "stream",
          "text": [
            "1024\n"
          ],
          "name": "stdout"
        }
      ]
    },
    {
      "cell_type": "markdown",
      "metadata": {
        "id": "waF6fus1IYV8"
      },
      "source": [
        "# Эксперименты с муравьями"
      ]
    },
    {
      "cell_type": "markdown",
      "metadata": {
        "id": "6xqULMB1JRJb"
      },
      "source": [
        "Следующий блок кода является модифицированным кодом из репозитория https://github.com/Akavall/AntColonyOptimization\n",
        "\n",
        "---\n",
        "\n",
        "\n",
        "Этот блок кода реализует прохождение муравьиной колонии по графу с целью поиска кратчайшего пути (ещё в доработке)"
      ]
    },
    {
      "cell_type": "markdown",
      "metadata": {
        "id": "e8vC29-dXlP6"
      },
      "source": [
        "Алгоритм состоит из N итераций. Кол-во итераций задаётся в параметр n_iterations.\n",
        "\n",
        "---\n",
        "Содержание каждой итерации:\n",
        "\n",
        "1. Выпускается K муравьёв (задаётся параметром n_ants) в функции **gen_all_paths()**\n",
        "2. Собираются путь каждого муравья (ф-я **gen_path()**) при том, что муравей выбирает, куда ему идти в функции **pick_move()**\n",
        "3. Для каждого собранного пути считается его дистанция (ф-я **gen_path_dist()**)\n",
        "4. В зависимости от длинны дистанции по неё распыляется феромон (ф-я **spread_pheromone()**)\n",
        "\n",
        "\n"
      ]
    },
    {
      "cell_type": "code",
      "metadata": {
        "id": "u_atB0yyX0tf"
      },
      "source": [
        "import random as rn\n",
        "import numpy as np\n",
        "from numpy.random import choice as np_choice\n",
        "\n",
        "class AntColony(object):\n",
        "\n",
        "  def __init__(self, graph, n_ants, n_best, n_iterations, decay, max_moves):\n",
        "\n",
        "    self.graph = graph\n",
        "    self.distances  = nx.to_numpy_array(graph)\n",
        "    self.pheromone = np.copy(self.distances)\n",
        "    self.n_ants = n_ants\n",
        "    self.n_best = n_best\n",
        "    self.n_iterations = n_iterations\n",
        "    self.decay = decay\n",
        "    self.alpha = 1\n",
        "    self.beta = 1\n",
        "    self.max_moves = max_moves\n",
        "    self.weights = 0\n",
        "    self.min_path = max_moves\n",
        "\n",
        "  #ГОТОВО\n",
        "  def run(self):\n",
        "    shortest_path = None\n",
        "    all_time_shortest_path = (\"placeholder\", np.inf)\n",
        "    for i in range(self.n_iterations):\n",
        "        all_paths = self.gen_all_paths() #получаем все пути муравьёв за эту итерацию\n",
        "        self.spread_pheronome(all_paths, self.n_best, shortest_path=shortest_path) #распыляем феромоны на путях в зависимости от их итоговой длинны\n",
        "        shortest_path = min(all_paths, key=lambda x: x[1]) #находим кратчайший путь из всех муравьиных\n",
        "        sorted_paths = sorted(all_paths, key=lambda x: x[1]) #сортируем пути по дистанции от минимальной к максимальной, чтобы напечатать\n",
        "        pr = []\n",
        "        for p in sorted_paths: \n",
        "          pr.append(p[1])\n",
        "        #print (\"short:\",shortest_path[1], \"weights:\", self.weights, \"pathes:\", pr)\n",
        "        #если нашли более короткий путь, чем был раньше, то заменяем\n",
        "        if shortest_path[1] < all_time_shortest_path[1]:\n",
        "            all_time_shortest_path = shortest_path            \n",
        "        self.pheromone = self.pheromone * self.decay #испаряем феромон\n",
        "    self.min_path = shortest_path[1]\n",
        "    print(\"shortest:\", self.min_path, \"weights:\", self.weights)\n",
        "    return all_time_shortest_path\n",
        "\n",
        "  #ГОТОВО\n",
        "  def spread_pheronome(self, all_paths, n_best, shortest_path):\n",
        "    sorted_paths = sorted(all_paths, key=lambda x: x[1]) #сортируем пути по дистанции от минимальной к максимальной\n",
        "    for path, dist in sorted_paths[:n_best]: #распыляем феромон на пути с наименьшей дистанцией\n",
        "      if dist < self.max_moves:\n",
        "        for move in path:\n",
        "            self.pheromone[move[0]][move[1]] += 25.0 / dist #self.distances[move] #к феромону прибавляется значение обратно пропорциональное пройденной дистанции\n",
        "  \n",
        "  #ГОТОВО: суммируем длинну пути\n",
        "  def gen_path_dist(self, path):\n",
        "    total_dist = 0\n",
        "    for step in path:\n",
        "        total_dist += self.distances[step]\n",
        "    return total_dist\n",
        "\n",
        "  #ГОТОВО: собираем пути всех муравьёв\n",
        "  def gen_all_paths(self):\n",
        "    all_paths = []\n",
        "    # выпускаем N муравьёв\n",
        "    for i in range(self.n_ants):\n",
        "        path = self.gen_path(start = 0) # каждый муравей проходит свой путь, начиная с 0-го узла\n",
        "        all_paths.append((path, self.gen_path_dist(path))) # этот путь присоединяется к копилке всех путей этой итерации муравейника\n",
        "    return all_paths\n",
        "\n",
        "  # то, как муравей проходит свой путь\n",
        "  def gen_path(self, start):\n",
        "    path = []\n",
        "    #visited = set()\n",
        "    #visited.add(start)\n",
        "    weight = 1;\n",
        "    prev = start\n",
        "    i = 0\n",
        "    while (prev != 1023): # цикл до попадания муравья в нужный узел\n",
        "      move, weight = self.pick_move(self, self.pheromone, prev, path, weight) # муравей выбирает следующий шаг\n",
        "      path.append((prev,move))\n",
        "      # муравей, зашедший в тупик, возвращается на базу до следующего выхода\n",
        "      #if G.degree[move] == 1:\n",
        "      #  return 0;\n",
        "      # муравей, гуляющий слишком долго, возвращается на базу до следующего выхода\n",
        "      i += 1\n",
        "      if i >= self.max_moves:\n",
        "        break\n",
        "      prev = move\n",
        "    if (prev == 1023): #если всё-таки дошёл, то добавляем вес\n",
        "      self.weights = self.weights + weight\n",
        "    return path\n",
        "  \n",
        "\n",
        "  def pick_move(self, pheromone, dist, prev, path, old_weight):\n",
        "      #pheromone = np.copy(pheromone)\n",
        "      neighbours = np.array(list(self.graph.adj[prev])) # список соседей (вариантов)\n",
        "      buff = []\n",
        "      for i in neighbours:\n",
        "        #if any(p[0] == i for p in path):\n",
        "        if len(path) != 0 and i == path[-1][0]:\n",
        "           buff.append(0.000001) # есои муравей там уже был, то вернётся с меньшей вероятностью\n",
        "        else:\n",
        "           buff.append(self.pheromone[prev][i])\n",
        "        \n",
        "      phers = np.array(buff)# список феромонов на соседях\n",
        "\n",
        "      #for i in phers:  \n",
        "      #  i = i ** self.alpha  # предпочтительность соседа при выборе пути. Забил на длинну, так как везде 1\n",
        "      row = phers ** self.alpha #* (( 1.0 / dist[prev]) ** self.beta) \n",
        "      \n",
        "      #row = np.ones(np.shape(neighbours))\n",
        "      norm_row = row / row.sum() # нормированная предпочтительность\n",
        "      \n",
        "      np.random.seed()\n",
        "      move = np_choice(a = neighbours, size = 1, p=norm_row)[0] # волшебство выбора\n",
        "      new_weight = old_weight / (len(neighbours) * norm_row[np.where(neighbours == move)])\n",
        "      #print(prev, \" - \", move)\n",
        "      return move, new_weight"
      ],
      "execution_count": 42,
      "outputs": []
    },
    {
      "cell_type": "code",
      "metadata": {
        "id": "aGAIS3ZSARjO",
        "colab": {
          "base_uri": "https://localhost:8080/"
        },
        "outputId": "28b6c858-0c4e-40d9-cb57-72a01bf16e38"
      },
      "source": [
        "weight_arr = []\n",
        "time_arr = []\n",
        "all_time = 0\n",
        "for i in range(0,15):\n",
        "  start = time.time()\n",
        "  ants = AntColony(G, n_ants = 35, n_best = 5, n_iterations = 20, decay = 0.95, max_moves = 500)\n",
        "  print (\"working... \", i)\n",
        "  shortest_path = ants.run()\n",
        "  work_time = time.time() - start\n",
        "  print (\"time:\", work_time)\n",
        "  weight_arr.append(ants.weights)\n",
        "  time_arr.append(work_time)\n",
        "  all_time = all_time + work_time"
      ],
      "execution_count": 65,
      "outputs": [
        {
          "output_type": "stream",
          "text": [
            "working...  0\n",
            "shortest: 5.0 weights: [4.61347734]\n",
            "time: 32.6142156124115\n",
            "working...  1\n",
            "shortest: 5.0 weights: [2.4412469]\n",
            "time: 27.535184383392334\n",
            "working...  2\n",
            "shortest: 4.0 weights: [2.15892222]\n",
            "time: 25.385377407073975\n",
            "working...  3\n",
            "shortest: 4.0 weights: [1.90463142]\n",
            "time: 25.278159856796265\n",
            "working...  4\n",
            "shortest: 4.0 weights: [2.97149983]\n",
            "time: 22.92661714553833\n",
            "working...  5\n",
            "shortest: 4.0 weights: [1.66310104]\n",
            "time: 23.889745473861694\n",
            "working...  6\n",
            "shortest: 4.0 weights: [3.22831082]\n",
            "time: 23.737737894058228\n",
            "working...  7\n",
            "shortest: 4.0 weights: [2.06805533]\n",
            "time: 18.78265953063965\n",
            "working...  8\n",
            "shortest: 4.0 weights: [13.88505335]\n",
            "time: 23.814411163330078\n",
            "working...  9\n",
            "shortest: 4.0 weights: [1.57860522]\n",
            "time: 31.469502210617065\n",
            "working...  10\n",
            "shortest: 4.0 weights: [2.35110208]\n",
            "time: 29.564180374145508\n",
            "working...  11\n",
            "shortest: 5.0 weights: [1.11940316]\n",
            "time: 26.444815635681152\n",
            "working...  12\n",
            "shortest: 4.0 weights: [2.39751515]\n",
            "time: 22.065439701080322\n",
            "working...  13\n",
            "shortest: 5.0 weights: [1.71193241]\n",
            "time: 14.919721841812134\n",
            "working...  14\n",
            "shortest: 5.0 weights: [1.60142496]\n",
            "time: 32.24432301521301\n"
          ],
          "name": "stdout"
        }
      ]
    },
    {
      "cell_type": "code",
      "metadata": {
        "id": "1FqhiHNH4rZx"
      },
      "source": [
        "import matplotlib.pyplot as plt"
      ],
      "execution_count": 46,
      "outputs": []
    },
    {
      "cell_type": "code",
      "metadata": {
        "colab": {
          "base_uri": "https://localhost:8080/",
          "height": 283
        },
        "id": "tHUf8PZI49z_",
        "outputId": "a6a57b07-73fc-45af-ad1c-9eaaa76ddbc5"
      },
      "source": [
        "plt.plot(weight_arr)\r\n",
        "plt.plot(time_arr)\r\n",
        "plt.show"
      ],
      "execution_count": 66,
      "outputs": [
        {
          "output_type": "execute_result",
          "data": {
            "text/plain": [
              "<function matplotlib.pyplot.show>"
            ]
          },
          "metadata": {
            "tags": []
          },
          "execution_count": 66
        },
        {
          "output_type": "display_data",
          "data": {
            "image/png": "[encoded data removed]",
            "text/plain": [
              "<Figure size 432x288 with 1 Axes>"
            ]
          },
          "metadata": {
            "tags": [],
            "needs_background": "light"
          }
        }
      ]
    },
    {
      "cell_type": "code",
      "metadata": {
        "colab": {
          "base_uri": "https://localhost:8080/",
          "height": 265
        },
        "id": "55cQZbzs5VGX",
        "outputId": "8859198b-96b8-4330-f69c-a0ccd772e761"
      },
      "source": [
        "d = []\r\n",
        "for i in range(len(weight_arr)):\r\n",
        "  if weight_arr[i] > 4:\r\n",
        "    weight_arr.pop([i])\r\n",
        "\r\n",
        "for i in range(len(weight_arr)):\r\n",
        "    d.append(np.var(weight_arr[:i+1]))\r\n",
        "\r\n",
        "plt.plot(d)\r\n",
        "plt.show()"
      ],
      "execution_count": 78,
      "outputs": [
        {
          "output_type": "display_data",
          "data": {
            "image/png": "[encoded data removed]",
            "text/plain": [
              "<Figure size 432x288 with 1 Axes>"
            ]
          },
          "metadata": {
            "tags": [],
            "needs_background": "light"
          }
        }
      ]
    },
    {
      "cell_type": "code",
      "metadata": {
        "colab": {
          "base_uri": "https://localhost:8080/"
        },
        "id": "DzG9_xtB__W2",
        "outputId": "c0c821b7-6fcf-4ec9-ff6f-369ec71af797"
      },
      "source": [
        "print(weight_arr)"
      ],
      "execution_count": 73,
      "outputs": [
        {
          "output_type": "stream",
          "text": [
            "[array([4.61347734]), array([2.4412469]), array([2.15892222]), array([1.90463142]), array([2.97149983]), array([1.66310104]), array([3.22831082]), array([2.06805533]), array([13.88505335]), array([1.57860522]), array([2.35110208]), array([1.11940316]), array([2.39751515]), array([1.71193241]), array([1.60142496])]\n"
          ],
          "name": "stdout"
        }
      ]
    },
    {
      "cell_type": "code",
      "metadata": {
        "colab": {
          "base_uri": "https://localhost:8080/"
        },
        "id": "wJc12gJnl5ne",
        "outputId": "4779ac25-e42e-4fce-e8e5-85de82023ec7"
      },
      "source": [
        "print(nx.dijkstra_path(G,0,1023))"
      ],
      "execution_count": 20,
      "outputs": [
        {
          "output_type": "stream",
          "text": [
            "[0, 151, 106, 794, 1023]\n"
          ],
          "name": "stdout"
        }
      ]
    }
  ]
}