{
  "nbformat": 4,
  "nbformat_minor": 0,
  "metadata": {
    "colab": {
      "name": "Ant_Colony_on_1024Graph.ipynb",
      "provenance": [],
      "authorship_tag": "ABX9TyPKb/8pWsGEZbxVZDLlfjrV",
      "include_colab_link": true
    },
    "kernelspec": {
      "name": "python3",
      "display_name": "Python 3"
    }
  },
  "cells": [
    {
      "cell_type": "markdown",
      "metadata": {
        "id": "view-in-github",
        "colab_type": "text"
      },
      "source": [
        "<a href=\"https://colab.research.google.com/github/VKapicyn/m06-006sk-course-work-var2/blob/master/Ant_Colony_on_1024Graph.ipynb\" target=\"_parent\"><img src=\"https://colab.research.google.com/assets/colab-badge.svg\" alt=\"Open In Colab\"/></a>"
      ]
    },
    {
      "cell_type": "markdown",
      "metadata": {
        "id": "zWHzkjJcIPI1"
      },
      "source": [
        "# Эксперименты с графом"
      ]
    },
    {
      "cell_type": "code",
      "metadata": {
        "id": "scuSTt40l3fr"
      },
      "source": [
        "import networkx as nx"
      ],
      "execution_count": 5,
      "outputs": []
    },
    {
      "cell_type": "code",
      "metadata": {
        "id": "AulqcIMPgiDJ"
      },
      "source": [
        "G = nx.gnm_random_graph(1024, 4000, directed=False)"
      ],
      "execution_count": 6,
      "outputs": []
    },
    {
      "cell_type": "code",
      "metadata": {
        "id": "FNQ6WgpB2jO1",
        "colab": {
          "base_uri": "https://localhost:8080/"
        },
        "outputId": "1b424b77-b94c-4d3d-9154-f841de61a4c7"
      },
      "source": [
        "sum = 0\n",
        "zeros = 0\n",
        "for i in G:\n",
        "  sum += G.degree[i]\n",
        "  if G.degree[i] == 0:\n",
        "    zeros += 1\n",
        "print(sum/G.number_of_nodes())\n",
        "print(zeros)"
      ],
      "execution_count": 50,
      "outputs": [
        {
          "output_type": "stream",
          "text": [
            "7.8125\n",
            "0\n"
          ],
          "name": "stdout"
        }
      ]
    },
    {
      "cell_type": "code",
      "metadata": {
        "id": "ESxrSW_M5S-Y",
        "colab": {
          "base_uri": "https://localhost:8080/"
        },
        "outputId": "15151377-fba5-4f88-ab15-de1133cf6bf6"
      },
      "source": [
        "k = 0\n",
        "for i in range(0,1024):\n",
        "  if nx.has_path(G,6,i):\n",
        "    k += 1\n",
        "print(k)"
      ],
      "execution_count": null,
      "outputs": [
        {
          "output_type": "stream",
          "text": [
            "1024\n"
          ],
          "name": "stdout"
        }
      ]
    },
    {
      "cell_type": "markdown",
      "metadata": {
        "id": "waF6fus1IYV8"
      },
      "source": [
        "# Эксперименты с муравьями"
      ]
    },
    {
      "cell_type": "markdown",
      "metadata": {
        "id": "6xqULMB1JRJb"
      },
      "source": [
        "Следующий блок кода является модифицированным кодом из репозитория https://github.com/Akavall/AntColonyOptimization\n",
        "\n",
        "---\n",
        "\n",
        "\n",
        "Этот блок кода реализует прохождение муравьиной колонии по графу с целью поиска кратчайшего пути (ещё в доработке)"
      ]
    },
    {
      "cell_type": "markdown",
      "metadata": {
        "id": "e8vC29-dXlP6"
      },
      "source": [
        "Алгоритм состоит из N итераций. Кол-во итераций задаётся в параметр n_iterations.\n",
        "\n",
        "---\n",
        "Содержание каждой итерации:\n",
        "\n",
        "1. Выпускается K муравьёв (задаётся параметром n_ants) в функции **gen_all_paths()**\n",
        "2. Собираются путь каждого муравья (ф-я **gen_path()**) при том, что муравей выбирает, куда ему идти в функции **pick_move()**\n",
        "3. Для каждого собранного пути считается его дистанция (ф-я **gen_path_dist()**)\n",
        "4. В зависимости от длинны дистанции по неё распыляется феромон (ф-я **spread_pheromone()**)\n",
        "\n",
        "\n"
      ]
    },
    {
      "cell_type": "code",
      "metadata": {
        "id": "u_atB0yyX0tf"
      },
      "source": [
        "import random as rn\n",
        "import numpy as np\n",
        "from numpy.random import choice as np_choice\n",
        "\n",
        "class AntColony(object):\n",
        "\n",
        "  def __init__(self, graph, n_ants, n_best, n_iterations, decay, alpha=1, beta=1):\n",
        "\n",
        "    self.graph = graph\n",
        "    self.distances  = nx.to_numpy_array(graph)\n",
        "    self.pheromone = np.copy(self.distances)\n",
        "    self.n_ants = n_ants\n",
        "    self.n_best = n_best\n",
        "    self.n_iterations = n_iterations\n",
        "    self.decay = decay\n",
        "    self.alpha = alpha\n",
        "    self.beta = beta\n",
        "    self.max_moves = 3000\n",
        "  #ГОТОВО\n",
        "  def run(self):\n",
        "    shortest_path = None\n",
        "    all_time_shortest_path = (\"placeholder\", np.inf)\n",
        "    for i in range(self.n_iterations):\n",
        "        all_paths = self.gen_all_paths() #получаем все пути муравьёв за эту итерацию\n",
        "        self.spread_pheronome(all_paths, self.n_best, shortest_path=shortest_path) #распыляем феромоны на путях в зависимости от их итоговой длинны\n",
        "        shortest_path = min(all_paths, key=lambda x: x[1]) #находим кратчайший путь из всех муравьиных\n",
        "        sorted_paths = sorted(all_paths, key=lambda x: x[1]) #сортируем пути по дистанции от минимальной к максимальной, чтобы напечатать\n",
        "        pr = []\n",
        "        for p in sorted_paths: \n",
        "          pr.append(p[1])\n",
        "        print (\"short:\",shortest_path[1], \"pathes:\", pr)\n",
        "        #если нашли более короткий путь, чем был раньше, то заменяем\n",
        "        if shortest_path[1] < all_time_shortest_path[1]:\n",
        "            all_time_shortest_path = shortest_path            \n",
        "        self.pheromone = self.pheromone * self.decay #испаряем феромон\n",
        "    return all_time_shortest_path\n",
        "\n",
        "  #ГОТОВО\n",
        "  def spread_pheronome(self, all_paths, n_best, shortest_path):\n",
        "    sorted_paths = sorted(all_paths, key=lambda x: x[1]) #сортируем пути по дистанции от минимальной к максимальной\n",
        "    for path, dist in sorted_paths[:n_best]: #распыляем феромон на пути с наименьшей дистанцией\n",
        "      if dist < self.max_moves:\n",
        "        for move in path:\n",
        "            self.pheromone[move[0]][move[1]] += 50.0 / dist #self.distances[move] #к феромону прибавляется значение обратно пропорциональное пройденной дистанции\n",
        "  \n",
        "  #ГОТОВО: суммируем длинну пути\n",
        "  def gen_path_dist(self, path):\n",
        "    total_dist = 0\n",
        "    for step in path:\n",
        "        total_dist += self.distances[step]\n",
        "    return total_dist\n",
        "\n",
        "  #ГОТОВО: собираем пути всех муравьёв\n",
        "  def gen_all_paths(self):\n",
        "    all_paths = []\n",
        "    # выпускаем N муравьёв\n",
        "    for i in range(self.n_ants):\n",
        "        path = self.gen_path(start = 0) # каждый муравей проходит свой путь, начиная с 0-го узла\n",
        "        all_paths.append((path, self.gen_path_dist(path))) # этот путь присоединяется к копилке всех путей этой итерации муравейника\n",
        "    return all_paths\n",
        "\n",
        "  # то, как муравей проходит свой путь\n",
        "  def gen_path(self, start):\n",
        "    path = []\n",
        "    #visited = set()\n",
        "    #visited.add(start)\n",
        "    prev = start\n",
        "    i = 0\n",
        "    while (prev != 1023): # цикл до попадания муравья в нужный узел\n",
        "      move = self.pick_move(self, self.pheromone, prev, path) # муравей выбирает следующий шаг\n",
        "      path.append((prev,move))\n",
        "      # муравей, зашедший в тупик, возвращается на базу до следующего выхода\n",
        "      #if G.degree[move] == 1:\n",
        "      #  return 0;\n",
        "      # муравей, гуляющий слишком долго, возвращается на базу до следующего выхода\n",
        "      i += 1\n",
        "      if i >= self.max_moves:\n",
        "        break\n",
        "      prev = move\n",
        "    return path\n",
        "  \n",
        "\n",
        "  def pick_move(self, pheromone, dist, prev, path):\n",
        "      #pheromone = np.copy(pheromone)\n",
        "      neighbours = np.array(list(self.graph.adj[prev])) # список соседей (вариантов)\n",
        "      buff = []\n",
        "      for i in neighbours:\n",
        "        #if any(p[0] == i for p in path):\n",
        "        if len(path) != 0 and i == path[-1][0]:\n",
        "           buff.append(0.000001) # есои муравей там уже был, то вернётся с меньшей вероятностью\n",
        "        else:\n",
        "           buff.append(self.pheromone[prev][i])\n",
        "        \n",
        "      phers = np.array(buff)# список феромонов на соседях\n",
        "\n",
        "      #for i in phers:  \n",
        "      #  i = i ** self.alpha  # предпочтительность соседа при выборе пути. Забил на длинну, так как везде 1\n",
        "      row = phers ** self.alpha #* (( 1.0 / dist[prev]) ** self.beta) \n",
        "      \n",
        "      #row = np.ones(np.shape(neighbours))\n",
        "      norm_row = row / row.sum() # нормированная предпочтительность\n",
        "      \n",
        "      np.random.seed()\n",
        "      move = np_choice(a = neighbours, size = 1, p=norm_row)[0] # волшебство выбора\n",
        "      #print(prev, \" - \", move)\n",
        "      return move"
      ],
      "execution_count": 80,
      "outputs": []
    },
    {
      "cell_type": "code",
      "metadata": {
        "id": "aGAIS3ZSARjO",
        "colab": {
          "base_uri": "https://localhost:8080/"
        },
        "outputId": "1e917742-2366-4045-9a26-a9d4d723cc8c"
      },
      "source": [
        "ants = AntColony(G, 25, 5, 20, 0.95, alpha=1, beta=1)\n",
        "shortest_path = ants.run()"
      ],
      "execution_count": 81,
      "outputs": [
        {
          "output_type": "stream",
          "text": [
            "short: 131.0 pathes: [131.0, 400.0, 440.0, 529.0, 619.0, 645.0, 684.0, 694.0, 758.0, 801.0, 1003.0, 1119.0, 1131.0, 1257.0, 1318.0, 1546.0, 1617.0, 1875.0, 2079.0, 2309.0, 3000.0, 3000.0, 3000.0, 3000.0, 3000.0]\n",
            "short: 78.0 pathes: [78.0, 81.0, 84.0, 141.0, 225.0, 225.0, 309.0, 322.0, 345.0, 535.0, 716.0, 748.0, 758.0, 911.0, 931.0, 1012.0, 1037.0, 1086.0, 1128.0, 1227.0, 1458.0, 2179.0, 2450.0, 2702.0, 3000.0]\n",
            "short: 23.0 pathes: [23.0, 31.0, 37.0, 38.0, 160.0, 188.0, 190.0, 288.0, 353.0, 387.0, 404.0, 431.0, 464.0, 466.0, 470.0, 756.0, 951.0, 1239.0, 1382.0, 1529.0, 1968.0, 2139.0, 2751.0, 2861.0, 3000.0]\n",
            "short: 50.0 pathes: [50.0, 52.0, 89.0, 216.0, 317.0, 365.0, 373.0, 383.0, 403.0, 434.0, 596.0, 643.0, 698.0, 736.0, 754.0, 853.0, 914.0, 1016.0, 1172.0, 1176.0, 1210.0, 1631.0, 1702.0, 1783.0, 1817.0]\n",
            "short: 39.0 pathes: [39.0, 80.0, 86.0, 116.0, 121.0, 158.0, 163.0, 167.0, 176.0, 201.0, 235.0, 244.0, 291.0, 310.0, 331.0, 335.0, 394.0, 428.0, 430.0, 470.0, 492.0, 516.0, 758.0, 1141.0, 2115.0]\n",
            "short: 9.0 pathes: [9.0, 19.0, 64.0, 117.0, 150.0, 155.0, 159.0, 163.0, 164.0, 166.0, 199.0, 201.0, 212.0, 263.0, 333.0, 351.0, 351.0, 434.0, 440.0, 442.0, 519.0, 626.0, 777.0, 1064.0, 1614.0]\n",
            "short: 9.0 pathes: [9.0, 48.0, 81.0, 85.0, 94.0, 129.0, 136.0, 136.0, 147.0, 148.0, 148.0, 151.0, 153.0, 185.0, 234.0, 238.0, 250.0, 268.0, 280.0, 284.0, 372.0, 455.0, 471.0, 1098.0, 1198.0]\n",
            "short: 9.0 pathes: [9.0, 9.0, 9.0, 35.0, 59.0, 65.0, 67.0, 71.0, 77.0, 85.0, 101.0, 108.0, 124.0, 149.0, 151.0, 228.0, 251.0, 283.0, 355.0, 399.0, 426.0, 474.0, 503.0, 583.0, 657.0]\n",
            "short: 10.0 pathes: [10.0, 17.0, 28.0, 39.0, 48.0, 52.0, 70.0, 70.0, 72.0, 80.0, 130.0, 134.0, 166.0, 182.0, 197.0, 209.0, 214.0, 240.0, 273.0, 311.0, 336.0, 348.0, 353.0, 387.0, 402.0]\n",
            "short: 15.0 pathes: [15.0, 25.0, 28.0, 30.0, 36.0, 41.0, 51.0, 61.0, 68.0, 69.0, 75.0, 92.0, 113.0, 115.0, 117.0, 143.0, 145.0, 148.0, 155.0, 194.0, 208.0, 235.0, 238.0, 320.0, 359.0]\n",
            "short: 7.0 pathes: [7.0, 9.0, 10.0, 12.0, 14.0, 15.0, 16.0, 18.0, 23.0, 42.0, 43.0, 45.0, 51.0, 63.0, 77.0, 84.0, 108.0, 125.0, 129.0, 133.0, 146.0, 154.0, 247.0, 303.0, 341.0]\n",
            "short: 5.0 pathes: [5.0, 7.0, 7.0, 8.0, 9.0, 15.0, 16.0, 19.0, 27.0, 28.0, 36.0, 47.0, 47.0, 54.0, 54.0, 60.0, 70.0, 79.0, 86.0, 106.0, 108.0, 110.0, 112.0, 154.0, 155.0]\n",
            "short: 5.0 pathes: [5.0, 7.0, 7.0, 7.0, 7.0, 9.0, 11.0, 12.0, 14.0, 19.0, 19.0, 20.0, 28.0, 31.0, 31.0, 34.0, 38.0, 43.0, 45.0, 64.0, 78.0, 82.0, 89.0, 160.0, 184.0]\n",
            "short: 5.0 pathes: [5.0, 6.0, 7.0, 7.0, 7.0, 7.0, 7.0, 8.0, 9.0, 21.0, 26.0, 33.0, 39.0, 40.0, 42.0, 44.0, 48.0, 60.0, 66.0, 70.0, 87.0, 124.0, 147.0, 192.0, 194.0]\n",
            "short: 5.0 pathes: [5.0, 5.0, 5.0, 5.0, 6.0, 7.0, 7.0, 7.0, 8.0, 10.0, 12.0, 14.0, 22.0, 28.0, 37.0, 37.0, 38.0, 47.0, 48.0, 53.0, 55.0, 69.0, 102.0, 108.0, 212.0]\n",
            "short: 5.0 pathes: [5.0, 5.0, 6.0, 6.0, 6.0, 7.0, 7.0, 7.0, 7.0, 8.0, 8.0, 9.0, 10.0, 23.0, 24.0, 31.0, 34.0, 39.0, 60.0, 63.0, 64.0, 74.0, 89.0, 109.0, 161.0]\n",
            "short: 5.0 pathes: [5.0, 5.0, 5.0, 5.0, 5.0, 5.0, 5.0, 6.0, 6.0, 6.0, 6.0, 6.0, 7.0, 7.0, 7.0, 9.0, 9.0, 12.0, 25.0, 28.0, 37.0, 48.0, 72.0, 116.0, 121.0]\n",
            "short: 5.0 pathes: [5.0, 5.0, 5.0, 5.0, 5.0, 5.0, 5.0, 5.0, 5.0, 6.0, 7.0, 7.0, 7.0, 7.0, 7.0, 8.0, 9.0, 9.0, 14.0, 44.0, 45.0, 47.0, 49.0, 52.0, 241.0]\n",
            "short: 5.0 pathes: [5.0, 5.0, 5.0, 5.0, 5.0, 5.0, 5.0, 5.0, 5.0, 6.0, 6.0, 6.0, 7.0, 7.0, 9.0, 17.0, 19.0, 20.0, 26.0, 27.0, 36.0, 40.0, 64.0, 75.0, 198.0]\n",
            "short: 5.0 pathes: [5.0, 5.0, 5.0, 5.0, 5.0, 5.0, 5.0, 5.0, 5.0, 5.0, 5.0, 5.0, 5.0, 5.0, 6.0, 6.0, 6.0, 7.0, 7.0, 32.0, 34.0, 74.0, 94.0, 145.0, 145.0]\n"
          ],
          "name": "stdout"
        }
      ]
    },
    {
      "cell_type": "code",
      "metadata": {
        "colab": {
          "base_uri": "https://localhost:8080/"
        },
        "id": "wJc12gJnl5ne",
        "outputId": "9ac41412-0807-4669-a201-32a2bff334b2"
      },
      "source": [
        "print(nx.dijkstra_path(G,0,1023))"
      ],
      "execution_count": 82,
      "outputs": [
        {
          "output_type": "stream",
          "text": [
            "[0, 465, 142, 525, 1023]\n"
          ],
          "name": "stdout"
        }
      ]
    }
  ]
}