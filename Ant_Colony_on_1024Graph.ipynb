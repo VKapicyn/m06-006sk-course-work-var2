{
  "nbformat": 4,
  "nbformat_minor": 0,
  "metadata": {
    "colab": {
      "name": "Ant_Colony_on_1024Graph.ipynb",
      "provenance": [],
      "authorship_tag": "ABX9TyMUoJsdrgAztnvzM5YPU5No",
      "include_colab_link": true
    },
    "kernelspec": {
      "name": "python3",
      "display_name": "Python 3"
    }
  },
  "cells": [
    {
      "cell_type": "markdown",
      "metadata": {
        "id": "view-in-github",
        "colab_type": "text"
      },
      "source": [
        "<a href=\"https://colab.research.google.com/github/VKapicyn/m06-006sk-course-work-var2/blob/master/Ant_Colony_on_1024Graph.ipynb\" target=\"_parent\"><img src=\"https://colab.research.google.com/assets/colab-badge.svg\" alt=\"Open In Colab\"/></a>"
      ]
    },
    {
      "cell_type": "markdown",
      "metadata": {
        "id": "zWHzkjJcIPI1"
      },
      "source": [
        "# Эксперименты с графом"
      ]
    },
    {
      "cell_type": "code",
      "metadata": {
        "id": "scuSTt40l3fr"
      },
      "source": [
        "import networkx as nx"
      ],
      "execution_count": 2,
      "outputs": []
    },
    {
      "cell_type": "code",
      "metadata": {
        "id": "AulqcIMPgiDJ"
      },
      "source": [
        "G = nx.gnm_random_graph(1024, 6000, directed=True)"
      ],
      "execution_count": 3,
      "outputs": []
    },
    {
      "cell_type": "code",
      "metadata": {
        "id": "FNQ6WgpB2jO1",
        "colab": {
          "base_uri": "https://localhost:8080/"
        },
        "outputId": "8782bac8-fc1c-42d5-a31a-a3cb7b4d9568"
      },
      "source": [
        "sum = 0\n",
        "zeros = 0\n",
        "for i in G:\n",
        "  sum += G.degree[i]\n",
        "  if G.degree[i] == 0:\n",
        "    zeros += 1\n",
        "print(sum/G.number_of_nodes())\n",
        "print(zeros)"
      ],
      "execution_count": null,
      "outputs": [
        {
          "output_type": "stream",
          "text": [
            "11.71875\n",
            "0\n"
          ],
          "name": "stdout"
        }
      ]
    },
    {
      "cell_type": "code",
      "metadata": {
        "id": "N7SBJMpVI-uk",
        "colab": {
          "base_uri": "https://localhost:8080/"
        },
        "outputId": "5301e3be-6b9e-48d3-8210-4c7de469cb47"
      },
      "source": [
        "G.number_of_nodes()"
      ],
      "execution_count": null,
      "outputs": [
        {
          "output_type": "execute_result",
          "data": {
            "text/plain": [
              "1024"
            ]
          },
          "metadata": {
            "tags": []
          },
          "execution_count": 36
        }
      ]
    },
    {
      "cell_type": "code",
      "metadata": {
        "id": "qAnusJjC5l9f",
        "colab": {
          "base_uri": "https://localhost:8080/"
        },
        "outputId": "4dab87de-db08-470a-caa5-318a7fe8a64e"
      },
      "source": [
        "print(nx.has_path(G,1,500))"
      ],
      "execution_count": null,
      "outputs": [
        {
          "output_type": "stream",
          "text": [
            "True\n"
          ],
          "name": "stdout"
        }
      ]
    },
    {
      "cell_type": "code",
      "metadata": {
        "id": "FDLdM0on-rF-",
        "colab": {
          "base_uri": "https://localhost:8080/"
        },
        "outputId": "0edf74ec-ee4b-4a1c-cd81-3369cdccbe77"
      },
      "source": [
        "a = set()\n",
        "for i in range(1,1024): \n",
        "  a.add(nx.shortest_path_length(G,0,i))\n",
        "print(min(a), max(a))"
      ],
      "execution_count": null,
      "outputs": [
        {
          "output_type": "stream",
          "text": [
            "1 5\n"
          ],
          "name": "stdout"
        }
      ]
    },
    {
      "cell_type": "code",
      "metadata": {
        "id": "ESxrSW_M5S-Y",
        "colab": {
          "base_uri": "https://localhost:8080/"
        },
        "outputId": "15151377-fba5-4f88-ab15-de1133cf6bf6"
      },
      "source": [
        "k = 0\n",
        "for i in range(0,1024):\n",
        "  if nx.has_path(G,6,i):\n",
        "    k += 1\n",
        "print(k)"
      ],
      "execution_count": null,
      "outputs": [
        {
          "output_type": "stream",
          "text": [
            "1024\n"
          ],
          "name": "stdout"
        }
      ]
    },
    {
      "cell_type": "markdown",
      "metadata": {
        "id": "waF6fus1IYV8"
      },
      "source": [
        "# Эксперименты с муравьями"
      ]
    },
    {
      "cell_type": "markdown",
      "metadata": {
        "id": "6xqULMB1JRJb"
      },
      "source": [
        "Следующий блок кода является модифицированным кодом из репозитория https://github.com/Akavall/AntColonyOptimization\n",
        "\n",
        "---\n",
        "\n",
        "\n",
        "Этот блок кода реализует прохождение муравьиной колонии по графу с целью поиска кратчайшего пути (ещё в доработке)"
      ]
    },
    {
      "cell_type": "markdown",
      "metadata": {
        "id": "e8vC29-dXlP6"
      },
      "source": [
        "Алгоритм состоит из N итераций. Кол-во итераций задаётся в параметр n_iterations.\n",
        "\n",
        "---\n",
        "Содержание каждой итерации:\n",
        "\n",
        "1. Выпускается K муравьёв (задаётся параметром n_ants) в функции **gen_all_paths()**\n",
        "2. Собираются путь каждого муравья (ф-я **gen_path()**) при том, что муравей выбирает, куда ему идти в функции **pick_move()**\n",
        "3. Для каждого собранного пути считается его дистанция (ф-я **gen_path_dist()**)\n",
        "4. В зависимости от длинны дистанции по неё распыляется феромон (ф-я **spread_pheromone()**)\n",
        "\n",
        "\n"
      ]
    },
    {
      "cell_type": "code",
      "metadata": {
        "id": "u_atB0yyX0tf"
      },
      "source": [
        "import random as rn\n",
        "import numpy as np\n",
        "from numpy.random import choice as np_choice\n",
        "\n",
        "class AntColony(object):\n",
        "\n",
        "  def __init__(self, graph, n_ants, n_best, n_iterations, decay, alpha=1, beta=1):\n",
        "\n",
        "    self.graph = graph\n",
        "    self.distances  = nx.to_numpy_array(graph)\n",
        "    self.pheromone = np.ones(self.distances.shape) / len(self.distances)\n",
        "    self.n_ants = n_ants\n",
        "    self.n_best = n_best\n",
        "    self.n_iterations = n_iterations\n",
        "    self.decay = decay\n",
        "    self.alpha = alpha\n",
        "    self.beta = beta\n",
        "\n",
        "  #ГОТОВО\n",
        "  def run(self):\n",
        "    shortest_path = None\n",
        "    all_time_shortest_path = (\"placeholder\", np.inf)\n",
        "    for i in range(self.n_iterations):\n",
        "        all_paths = self.gen_all_paths() #получаем все пути муравьёв за эту итерацию\n",
        "        self.spread_pheronome(all_paths, self.n_best, shortest_path=shortest_path) #распыляем феромоны на путях в зависимости от их итоговой длинны\n",
        "        shortest_path = min(all_paths, key=lambda x: x[1]) #находим кратчайший путь из всех муравьиных\n",
        "        print (shortest_path)\n",
        "        #если нашли более короткий путь, чем был раньше, то заменяем\n",
        "        if shortest_path[1] < all_time_shortest_path[1]:\n",
        "            all_time_shortest_path = shortest_path            \n",
        "        self.pheromone * self.decay #испаряем феромон\n",
        "    return all_time_shortest_path\n",
        "\n",
        "  #ГОТОВО\n",
        "  def spread_pheronome(self, all_paths, n_best, shortest_path):\n",
        "    sorted_paths = sorted(all_paths, key=lambda x: x[1]) #сортируем пути по дистанции от минимальной к максимальной\n",
        "    for path, dist in sorted_paths[:n_best]: #распыляем феромон на пути с наименьшей дистанцией\n",
        "        for move in path:\n",
        "            self.pheromone[move] += 1.0 / dist #self.distances[move] #к феромону прибавляется значение обратно пропорциональное пройденной дистанции\n",
        "  \n",
        "  #ГОТОВО: суммируем длинну пути\n",
        "  def gen_path_dist(self, path):\n",
        "    total_dist = 0\n",
        "    for step in path:\n",
        "        total_dist += self.distances[step]\n",
        "    return total_dist\n",
        "\n",
        "  #ГОТОВО: собираем пути всех муравьёв\n",
        "  def gen_all_paths(self):\n",
        "    all_paths = []\n",
        "    # выпускаем N муравьёв\n",
        "    for i in range(self.n_ants):\n",
        "        path = self.gen_path(0) # каждый муравей проходит свой путь, начиная с 0-го узла\n",
        "        all_paths.append((path, self.gen_path_dist(path))) # этот путь присоединяется к копилке всех путей этой итерации муравейника\n",
        "    return all_paths\n",
        "\n",
        "  # то, как муравей проходит свой путь\n",
        "  def gen_path(self, start):\n",
        "    path = []\n",
        "    #visited = set()\n",
        "    #visited.add(start)\n",
        "    prev = start\n",
        "    i = 0\n",
        "    while (prev != 1023): # цикл до попадания муравья в нужный узел\n",
        "      move = self.pick_move(self, self.pheromone, prev) # муравей выбирает следующий шаг\n",
        "      path.append((prev,move))\n",
        "      # муравей, зашедший в тупик, возвращается на базу до следующего выхода\n",
        "      if G.degree[move] == 1:\n",
        "        break\n",
        "      # муравей, гуляющий слишком долго, возвращается на базу до следующего выхода\n",
        "      i += 1\n",
        "      if i >= 3000:\n",
        "        break\n",
        "      prev = move\n",
        "    return path\n",
        "  \n",
        "\n",
        "  def pick_move(self, pheromone, dist, prev):\n",
        "      pheromone = np.copy(pheromone)\n",
        "      neighbours = list(self.graph.adj[prev]) # список соседей (вариантов)\n",
        "      phers = []\n",
        "      for i in neighbours:\n",
        "        phers.append(pheromone[i][prev]) # список феромонов на соседях\n",
        "\n",
        "      row = pheromone ** self.alpha * (( 1.0 / dist) ** self.beta) # предпочтительность соседа при выборе пути\n",
        "\n",
        "      norm_row = row / row.sum() # нормированная предпочтительность\n",
        "      move = np_choice(neighbours, 1, p=norm_row)[0] # волшебство выбора\n",
        "      return move"
      ],
      "execution_count": null,
      "outputs": []
    },
    {
      "cell_type": "code",
      "metadata": {
        "id": "YckWNvWjB7ca",
        "colab": {
          "base_uri": "https://localhost:8080/"
        },
        "outputId": "993b1723-777b-4ed9-e173-9a097878a834"
      },
      "source": [
        "G.graph"
      ],
      "execution_count": null,
      "outputs": [
        {
          "output_type": "execute_result",
          "data": {
            "text/plain": [
              "{}"
            ]
          },
          "metadata": {
            "tags": []
          },
          "execution_count": 28
        }
      ]
    },
    {
      "cell_type": "code",
      "metadata": {
        "id": "aGAIS3ZSARjO",
        "colab": {
          "base_uri": "https://localhost:8080/",
          "height": 329
        },
        "outputId": "456cb745-97a3-4bb7-ec88-83ad506ee8ef"
      },
      "source": [
        "ants = AntColony(G, 20, 5, 100, 0.95, alpha=1, beta=1)\n",
        "shortest_path = ants.run()"
      ],
      "execution_count": null,
      "outputs": [
        {
          "output_type": "error",
          "ename": "IndexError",
          "evalue": "ignored",
          "traceback": [
            "\u001b[0;31m---------------------------------------------------------------------------\u001b[0m",
            "\u001b[0;31mIndexError\u001b[0m                                Traceback (most recent call last)",
            "\u001b[0;32m<ipython-input-73-bf77ebbb2690>\u001b[0m in \u001b[0;36m<module>\u001b[0;34m()\u001b[0m\n\u001b[1;32m      1\u001b[0m \u001b[0mants\u001b[0m \u001b[0;34m=\u001b[0m \u001b[0mAntColony\u001b[0m\u001b[0;34m(\u001b[0m\u001b[0mG\u001b[0m\u001b[0;34m,\u001b[0m \u001b[0;36m20\u001b[0m\u001b[0;34m,\u001b[0m \u001b[0;36m5\u001b[0m\u001b[0;34m,\u001b[0m \u001b[0;36m100\u001b[0m\u001b[0;34m,\u001b[0m \u001b[0;36m0.95\u001b[0m\u001b[0;34m,\u001b[0m \u001b[0malpha\u001b[0m\u001b[0;34m=\u001b[0m\u001b[0;36m1\u001b[0m\u001b[0;34m,\u001b[0m \u001b[0mbeta\u001b[0m\u001b[0;34m=\u001b[0m\u001b[0;36m1\u001b[0m\u001b[0;34m)\u001b[0m\u001b[0;34m\u001b[0m\u001b[0;34m\u001b[0m\u001b[0m\n\u001b[0;32m----> 2\u001b[0;31m \u001b[0mshortest_path\u001b[0m \u001b[0;34m=\u001b[0m \u001b[0mants\u001b[0m\u001b[0;34m.\u001b[0m\u001b[0mrun\u001b[0m\u001b[0;34m(\u001b[0m\u001b[0;34m)\u001b[0m\u001b[0;34m\u001b[0m\u001b[0;34m\u001b[0m\u001b[0m\n\u001b[0m",
            "\u001b[0;32m<ipython-input-72-3f1618af0f2f>\u001b[0m in \u001b[0;36mrun\u001b[0;34m(self)\u001b[0m\n\u001b[1;32m     22\u001b[0m     \u001b[0mall_time_shortest_path\u001b[0m \u001b[0;34m=\u001b[0m \u001b[0;34m(\u001b[0m\u001b[0;34m\"placeholder\"\u001b[0m\u001b[0;34m,\u001b[0m \u001b[0mnp\u001b[0m\u001b[0;34m.\u001b[0m\u001b[0minf\u001b[0m\u001b[0;34m)\u001b[0m\u001b[0;34m\u001b[0m\u001b[0;34m\u001b[0m\u001b[0m\n\u001b[1;32m     23\u001b[0m     \u001b[0;32mfor\u001b[0m \u001b[0mi\u001b[0m \u001b[0;32min\u001b[0m \u001b[0mrange\u001b[0m\u001b[0;34m(\u001b[0m\u001b[0mself\u001b[0m\u001b[0;34m.\u001b[0m\u001b[0mn_iterations\u001b[0m\u001b[0;34m)\u001b[0m\u001b[0;34m:\u001b[0m\u001b[0;34m\u001b[0m\u001b[0;34m\u001b[0m\u001b[0m\n\u001b[0;32m---> 24\u001b[0;31m         \u001b[0mall_paths\u001b[0m \u001b[0;34m=\u001b[0m \u001b[0mself\u001b[0m\u001b[0;34m.\u001b[0m\u001b[0mgen_all_paths\u001b[0m\u001b[0;34m(\u001b[0m\u001b[0;34m)\u001b[0m \u001b[0;31m#получаем все пути муравьёв за эту итерацию\u001b[0m\u001b[0;34m\u001b[0m\u001b[0;34m\u001b[0m\u001b[0m\n\u001b[0m\u001b[1;32m     25\u001b[0m         \u001b[0mself\u001b[0m\u001b[0;34m.\u001b[0m\u001b[0mspread_pheronome\u001b[0m\u001b[0;34m(\u001b[0m\u001b[0mall_paths\u001b[0m\u001b[0;34m,\u001b[0m \u001b[0mself\u001b[0m\u001b[0;34m.\u001b[0m\u001b[0mn_best\u001b[0m\u001b[0;34m,\u001b[0m \u001b[0mshortest_path\u001b[0m\u001b[0;34m=\u001b[0m\u001b[0mshortest_path\u001b[0m\u001b[0;34m)\u001b[0m \u001b[0;31m#распыляем феромоны на путях в зависимости от их итоговой длинны\u001b[0m\u001b[0;34m\u001b[0m\u001b[0;34m\u001b[0m\u001b[0m\n\u001b[1;32m     26\u001b[0m         \u001b[0mshortest_path\u001b[0m \u001b[0;34m=\u001b[0m \u001b[0mmin\u001b[0m\u001b[0;34m(\u001b[0m\u001b[0mall_paths\u001b[0m\u001b[0;34m,\u001b[0m \u001b[0mkey\u001b[0m\u001b[0;34m=\u001b[0m\u001b[0;32mlambda\u001b[0m \u001b[0mx\u001b[0m\u001b[0;34m:\u001b[0m \u001b[0mx\u001b[0m\u001b[0;34m[\u001b[0m\u001b[0;36m1\u001b[0m\u001b[0;34m]\u001b[0m\u001b[0;34m)\u001b[0m \u001b[0;31m#находим кратчайший путь из всех муравьиных\u001b[0m\u001b[0;34m\u001b[0m\u001b[0;34m\u001b[0m\u001b[0m\n",
            "\u001b[0;32m<ipython-input-72-3f1618af0f2f>\u001b[0m in \u001b[0;36mgen_all_paths\u001b[0;34m(self)\u001b[0m\n\u001b[1;32m     51\u001b[0m     \u001b[0;31m# выпускаем N муравьёв\u001b[0m\u001b[0;34m\u001b[0m\u001b[0;34m\u001b[0m\u001b[0;34m\u001b[0m\u001b[0m\n\u001b[1;32m     52\u001b[0m     \u001b[0;32mfor\u001b[0m \u001b[0mi\u001b[0m \u001b[0;32min\u001b[0m \u001b[0mrange\u001b[0m\u001b[0;34m(\u001b[0m\u001b[0mself\u001b[0m\u001b[0;34m.\u001b[0m\u001b[0mn_ants\u001b[0m\u001b[0;34m)\u001b[0m\u001b[0;34m:\u001b[0m\u001b[0;34m\u001b[0m\u001b[0;34m\u001b[0m\u001b[0m\n\u001b[0;32m---> 53\u001b[0;31m         \u001b[0mpath\u001b[0m \u001b[0;34m=\u001b[0m \u001b[0mself\u001b[0m\u001b[0;34m.\u001b[0m\u001b[0mgen_path\u001b[0m\u001b[0;34m(\u001b[0m\u001b[0;36m0\u001b[0m\u001b[0;34m)\u001b[0m \u001b[0;31m# каждый муравей проходит свой путь, начиная с 0-го узла\u001b[0m\u001b[0;34m\u001b[0m\u001b[0;34m\u001b[0m\u001b[0m\n\u001b[0m\u001b[1;32m     54\u001b[0m         \u001b[0mall_paths\u001b[0m\u001b[0;34m.\u001b[0m\u001b[0mappend\u001b[0m\u001b[0;34m(\u001b[0m\u001b[0;34m(\u001b[0m\u001b[0mpath\u001b[0m\u001b[0;34m,\u001b[0m \u001b[0mself\u001b[0m\u001b[0;34m.\u001b[0m\u001b[0mgen_path_dist\u001b[0m\u001b[0;34m(\u001b[0m\u001b[0mpath\u001b[0m\u001b[0;34m)\u001b[0m\u001b[0;34m)\u001b[0m\u001b[0;34m)\u001b[0m \u001b[0;31m# этот путь присоединяется к копилке всех путей этой итерации муравейника\u001b[0m\u001b[0;34m\u001b[0m\u001b[0;34m\u001b[0m\u001b[0m\n\u001b[1;32m     55\u001b[0m     \u001b[0;32mreturn\u001b[0m \u001b[0mall_paths\u001b[0m\u001b[0;34m\u001b[0m\u001b[0;34m\u001b[0m\u001b[0m\n",
            "\u001b[0;32m<ipython-input-72-3f1618af0f2f>\u001b[0m in \u001b[0;36mgen_path\u001b[0;34m(self, start)\u001b[0m\n\u001b[1;32m     63\u001b[0m     \u001b[0mi\u001b[0m \u001b[0;34m=\u001b[0m \u001b[0;36m0\u001b[0m\u001b[0;34m\u001b[0m\u001b[0;34m\u001b[0m\u001b[0m\n\u001b[1;32m     64\u001b[0m     \u001b[0;32mwhile\u001b[0m \u001b[0;34m(\u001b[0m\u001b[0mprev\u001b[0m \u001b[0;34m!=\u001b[0m \u001b[0;36m1023\u001b[0m\u001b[0;34m)\u001b[0m\u001b[0;34m:\u001b[0m \u001b[0;31m# цикл до попадания муравья в нужный узел\u001b[0m\u001b[0;34m\u001b[0m\u001b[0;34m\u001b[0m\u001b[0m\n\u001b[0;32m---> 65\u001b[0;31m       \u001b[0mmove\u001b[0m \u001b[0;34m=\u001b[0m \u001b[0mself\u001b[0m\u001b[0;34m.\u001b[0m\u001b[0mpick_move\u001b[0m\u001b[0;34m(\u001b[0m\u001b[0mself\u001b[0m\u001b[0;34m,\u001b[0m \u001b[0mself\u001b[0m\u001b[0;34m.\u001b[0m\u001b[0mpheromone\u001b[0m\u001b[0;34m,\u001b[0m \u001b[0mprev\u001b[0m\u001b[0;34m)\u001b[0m \u001b[0;31m# муравей выбирает следующий шаг\u001b[0m\u001b[0;34m\u001b[0m\u001b[0;34m\u001b[0m\u001b[0m\n\u001b[0m\u001b[1;32m     66\u001b[0m       \u001b[0mpath\u001b[0m\u001b[0;34m.\u001b[0m\u001b[0mappend\u001b[0m\u001b[0;34m(\u001b[0m\u001b[0;34m(\u001b[0m\u001b[0mprev\u001b[0m\u001b[0;34m,\u001b[0m\u001b[0mmove\u001b[0m\u001b[0;34m)\u001b[0m\u001b[0;34m)\u001b[0m\u001b[0;34m\u001b[0m\u001b[0;34m\u001b[0m\u001b[0m\n\u001b[1;32m     67\u001b[0m       \u001b[0;31m# муравей, зашедший в тупик, возвращается на базу до следующего выхода\u001b[0m\u001b[0;34m\u001b[0m\u001b[0;34m\u001b[0m\u001b[0;34m\u001b[0m\u001b[0m\n",
            "\u001b[0;32m<ipython-input-72-3f1618af0f2f>\u001b[0m in \u001b[0;36mpick_move\u001b[0;34m(self, pheromone, dist, prev)\u001b[0m\n\u001b[1;32m     81\u001b[0m       \u001b[0mphers\u001b[0m \u001b[0;34m=\u001b[0m \u001b[0;34m[\u001b[0m\u001b[0;34m]\u001b[0m\u001b[0;34m\u001b[0m\u001b[0;34m\u001b[0m\u001b[0m\n\u001b[1;32m     82\u001b[0m       \u001b[0;32mfor\u001b[0m \u001b[0mi\u001b[0m \u001b[0;32min\u001b[0m \u001b[0mneighbours\u001b[0m\u001b[0;34m:\u001b[0m\u001b[0;34m\u001b[0m\u001b[0;34m\u001b[0m\u001b[0m\n\u001b[0;32m---> 83\u001b[0;31m         \u001b[0mphers\u001b[0m\u001b[0;34m.\u001b[0m\u001b[0mappend\u001b[0m\u001b[0;34m(\u001b[0m\u001b[0mpheromone\u001b[0m\u001b[0;34m[\u001b[0m\u001b[0mi\u001b[0m\u001b[0;34m]\u001b[0m\u001b[0;34m[\u001b[0m\u001b[0mprev\u001b[0m\u001b[0;34m]\u001b[0m\u001b[0;34m)\u001b[0m \u001b[0;31m# список феромонов на соседях\u001b[0m\u001b[0;34m\u001b[0m\u001b[0;34m\u001b[0m\u001b[0m\n\u001b[0m\u001b[1;32m     84\u001b[0m \u001b[0;34m\u001b[0m\u001b[0m\n\u001b[1;32m     85\u001b[0m       \u001b[0mrow\u001b[0m \u001b[0;34m=\u001b[0m \u001b[0mpheromone\u001b[0m \u001b[0;34m**\u001b[0m \u001b[0mself\u001b[0m\u001b[0;34m.\u001b[0m\u001b[0malpha\u001b[0m \u001b[0;34m*\u001b[0m \u001b[0;34m(\u001b[0m\u001b[0;34m(\u001b[0m \u001b[0;36m1.0\u001b[0m \u001b[0;34m/\u001b[0m \u001b[0mdist\u001b[0m\u001b[0;34m)\u001b[0m \u001b[0;34m**\u001b[0m \u001b[0mself\u001b[0m\u001b[0;34m.\u001b[0m\u001b[0mbeta\u001b[0m\u001b[0;34m)\u001b[0m \u001b[0;31m# предпочтительность соседа при выборе пути\u001b[0m\u001b[0;34m\u001b[0m\u001b[0;34m\u001b[0m\u001b[0m\n",
            "\u001b[0;31mIndexError\u001b[0m: too many indices for array"
          ]
        }
      ]
    }
  ]
}