{
  "nbformat": 4,
  "nbformat_minor": 0,
  "metadata": {
    "colab": {
      "name": "Ant_Colony_on_1024Graph.ipynb",
      "provenance": [],
      "authorship_tag": "ABX9TyOszj/HG6Og3E05mtszC90f",
      "include_colab_link": true
    },
    "kernelspec": {
      "name": "python3",
      "display_name": "Python 3"
    }
  },
  "cells": [
    {
      "cell_type": "markdown",
      "metadata": {
        "id": "view-in-github",
        "colab_type": "text"
      },
      "source": [
        "<a href=\"https://colab.research.google.com/github/VKapicyn/m06-006sk-course-work-var2/blob/master/Ant_Colony_on_1024Graph.ipynb\" target=\"_parent\"><img src=\"https://colab.research.google.com/assets/colab-badge.svg\" alt=\"Open In Colab\"/></a>"
      ]
    },
    {
      "cell_type": "markdown",
      "metadata": {
        "id": "zWHzkjJcIPI1"
      },
      "source": [
        "# Эксперименты с графом"
      ]
    },
    {
      "cell_type": "code",
      "metadata": {
        "id": "scuSTt40l3fr"
      },
      "source": [
        "import networkx as nx\r\n",
        "from networkx.readwrite import json_graph\r\n",
        "import json\r\n",
        "import time\r\n",
        "import matplotlib.pyplot as plt"
      ],
      "execution_count": 95,
      "outputs": []
    },
    {
      "cell_type": "code",
      "metadata": {
        "id": "AulqcIMPgiDJ"
      },
      "source": [
        "#создание графа\r\n",
        "G = nx.gnm_random_graph(1024, 4000, directed=False)\r\n",
        "\r\n",
        "#проверка графа на наличие несвязанных узлов\r\n",
        "sum = 0\r\n",
        "zeros = 0\r\n",
        "for i in G:\r\n",
        "  sum += G.degree[i]\r\n",
        "  if G.degree[i] == 0:\r\n",
        "    zeros += 1\r\n",
        "print(sum/G.number_of_nodes())\r\n",
        "print(zeros)"
      ],
      "execution_count": 3,
      "outputs": []
    },
    {
      "cell_type": "code",
      "metadata": {
        "colab": {
          "base_uri": "https://localhost:8080/"
        },
        "id": "X5bWpuJ_CFiM",
        "outputId": "ccbe1740-ab71-4b8f-dafa-3edfe4464255"
      },
      "source": [
        "# Считываем граф из файла\r\n",
        "iteration_number = \"17\"\r\n",
        "file_name = \"darvin_graph_\"+iteration_number+\".json\"\r\n",
        "G = nx.DiGraph()\r\n",
        "with open('/content/sample_data/'+file_name, 'r') as readfile:\r\n",
        "  js_graph = json.load(readfile)\r\n",
        "  G = json_graph.node_link_graph(js_graph, directed=True)\r\n",
        "\r\n",
        "# итерация узлов\r\n",
        "if len(G.nodes)<50 :\r\n",
        "  for i in range(0, len(G.nodes)):\r\n",
        "    print(i)\r\n",
        "    print(g.edges(i))\r\n",
        "\r\n",
        "\r\n",
        "# Рисуем граф если граф тестовый (граф из 1024 точек адекватно не отображается)\r\n",
        "if len(G.nodes)<50 :\r\n",
        "  nx.draw(G, with_labels=True)\r\n",
        "  plt.show()\r\n",
        "\r\n",
        "print(\"Граф готов\")"
      ],
      "execution_count": 97,
      "outputs": [
        {
          "output_type": "stream",
          "text": [
            "Граф готов\n"
          ],
          "name": "stdout"
        }
      ]
    },
    {
      "cell_type": "markdown",
      "metadata": {
        "id": "waF6fus1IYV8"
      },
      "source": [
        "# Эксперименты с муравьями"
      ]
    },
    {
      "cell_type": "markdown",
      "metadata": {
        "id": "6xqULMB1JRJb"
      },
      "source": [
        "Следующий блок кода является модифицированным кодом из репозитория https://github.com/Akavall/AntColonyOptimization\n",
        "\n",
        "---\n",
        "\n",
        "\n",
        "Этот блок кода реализует прохождение муравьиной колонии по графу с целью поиска кратчайшего пути"
      ]
    },
    {
      "cell_type": "markdown",
      "metadata": {
        "id": "e8vC29-dXlP6"
      },
      "source": [
        "Алгоритм состоит из N итераций. Кол-во итераций задаётся в параметр n_iterations.\n",
        "\n",
        "---\n",
        "Cчитаем что точка А - это G[0], точка B - это G[nodes-1].\n",
        "\n",
        "Есть K муравьёв. Кажда частица совершает случайные блуждания по маршруту n_iterations раз, то есть K раз происходит проход по графу для каждой итерации\n",
        "\n",
        "Содержание каждой итерации:\n",
        "\n",
        "1. Выпускается K муравьёв (задаётся параметром n_ants) в функции **gen_all_paths()**\n",
        "2. Собираются путь каждого муравья (ф-я **gen_path()**) при том, что муравей выбирает, куда ему идти в функции **pick_move()**\n",
        "    1. Если муравей достигает точки B, то его путь заканчивается\n",
        "    2. Если муравей превышает число шагов, заданный параметром **max_moves**, то он \"умирает\" и его путь не защитывается\n",
        "3. Для каждого собранного пути считается его дистанция (ф-я **gen_path_dist()**)\n",
        "4. В зависимости от длинны дистанции выбираются **n_best** самых успешных дистанций. На них распыляется феромон (ф-я **spread_pheromone()**)\n",
        "5. После этого происходит испарение феромона со всех рёбер графа, заданное параметром **decay**\n",
        "\n",
        "Веса муравьёв обновляются при каждом переходе и считаются, как: \n",
        "![Снимок экрана 2020-12-21 024455.jpg](data:image/jpeg;base64,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)\n"
      ]
    },
    {
      "cell_type": "code",
      "metadata": {
        "id": "u_atB0yyX0tf"
      },
      "source": [
        "import random as rn\n",
        "import numpy as np\n",
        "from numpy.random import choice as np_choice\n",
        "\n",
        "class AntColony(object):\n",
        "\n",
        "  def __init__(self, graph, n_ants, n_best, n_iterations, decay, max_moves):\n",
        "\n",
        "    self.graph = graph\n",
        "    self.distances  = nx.to_numpy_array(graph)\n",
        "    self.pheromone = np.copy(self.distances)\n",
        "    self.n_ants = n_ants\n",
        "    self.n_best = n_best\n",
        "    self.n_iterations = n_iterations\n",
        "    self.decay = decay\n",
        "    self.alpha = 1\n",
        "    self.beta = 1\n",
        "    self.max_moves = max_moves\n",
        "    self.weights = 0\n",
        "    self.min_path = max_moves\n",
        "\n",
        "  #ГОТОВО\n",
        "  def run(self):\n",
        "    shortest_path = None\n",
        "    all_time_shortest_path = (\"placeholder\", np.inf)\n",
        "    for i in range(self.n_iterations):\n",
        "        self.weights = 0\n",
        "        all_paths = self.gen_all_paths() #получаем все пути муравьёв за эту итерацию\n",
        "        self.spread_pheronome(all_paths, self.n_best, shortest_path=shortest_path) #распыляем феромоны на путях в зависимости от их итоговой длинны\n",
        "        shortest_path = min(all_paths, key=lambda x: x[1]) #находим кратчайший путь из всех муравьиных\n",
        "\n",
        "        #если нашли более короткий путь, чем был раньше, то заменяем\n",
        "        if shortest_path[1] < all_time_shortest_path[1]:\n",
        "            all_time_shortest_path = shortest_path            \n",
        "        self.pheromone = self.pheromone * self.decay #испаряем феромон\n",
        "    self.min_path = shortest_path[1]\n",
        "    print(\"shortest:\", self.min_path, \"weights:\", self.weights)\n",
        "    return all_time_shortest_path\n",
        "\n",
        "  #ГОТОВО\n",
        "  def spread_pheronome(self, all_paths, n_best, shortest_path):\n",
        "    sorted_paths = sorted(all_paths, key=lambda x: x[1]) #сортируем пути по дистанции от минимальной к максимальной\n",
        "    for path, dist in sorted_paths[:n_best]: #распыляем феромон на пути с наименьшей дистанцией\n",
        "      if dist < self.max_moves:\n",
        "        for move in path:\n",
        "            self.pheromone[move[0]][move[1]] += 25.0 / dist #self.distances[move] #к феромону прибавляется значение обратно пропорциональное пройденной дистанции\n",
        "  \n",
        "  #ГОТОВО: суммируем длинну пути\n",
        "  def gen_path_dist(self, path):\n",
        "    total_dist = 0\n",
        "    for step in path:\n",
        "        total_dist += self.distances[step]\n",
        "    return total_dist\n",
        "\n",
        "  #ГОТОВО: собираем пути всех муравьёв\n",
        "  def gen_all_paths(self):\n",
        "    all_paths = []\n",
        "    # выпускаем N муравьёв\n",
        "    for i in range(self.n_ants):\n",
        "        path = self.gen_path(start = 0) # каждый муравей проходит свой путь, начиная с 0-го узла\n",
        "        all_paths.append((path, self.gen_path_dist(path))) # этот путь присоединяется к копилке всех путей этой итерации муравейника\n",
        "    return all_paths\n",
        "\n",
        "  # то, как муравей проходит свой путь\n",
        "  def gen_path(self, start):\n",
        "    path = []\n",
        "    #visited = set()\n",
        "    #visited.add(start)\n",
        "    weight = 1;\n",
        "    prev = start\n",
        "    i = 0\n",
        "    while (prev != 1023): # цикл до попадания муравья в нужный узел\n",
        "      move, weight = self.pick_move(self, self.pheromone, prev, path, weight) # муравей выбирает следующий шаг\n",
        "      path.append((prev,move))\n",
        "      # муравей, зашедший в тупик, возвращается на базу до следующего выхода\n",
        "      #if G.degree[move] == 1:\n",
        "      #  return 0;\n",
        "      # муравей, гуляющий слишком долго, возвращается на базу до следующего выхода\n",
        "      i += 1\n",
        "      if i >= self.max_moves:\n",
        "        break\n",
        "      prev = move\n",
        "    if (prev == 1023): #если всё-таки дошёл, то добавляем вес\n",
        "      self.weights = self.weights + weight\n",
        "    return path\n",
        "  \n",
        "\n",
        "  def pick_move(self, pheromone, dist, prev, path, old_weight):\n",
        "      #pheromone = np.copy(pheromone)\n",
        "      neighbours = np.array(list(self.graph.adj[prev])) # список соседей (вариантов)\n",
        "      buff = []\n",
        "      for i in neighbours:\n",
        "        #if any(p[0] == i for p in path):\n",
        "        if len(path) != 0 and i == path[-1][0]:\n",
        "           buff.append(0.000001) # есои муравей там уже был, то вернётся с меньшей вероятностью\n",
        "        else:\n",
        "           buff.append(self.pheromone[prev][i])\n",
        "        \n",
        "      phers = np.array(buff)# список феромонов на соседях\n",
        "\n",
        "      #for i in phers:  \n",
        "      #  i = i ** self.alpha  # предпочтительность соседа при выборе пути. Забил на длинну, так как везде 1\n",
        "      row = phers ** self.alpha #* (( 1.0 / dist[prev]) ** self.beta) \n",
        "      \n",
        "      #row = np.ones(np.shape(neighbours))\n",
        "      norm_row = row / row.sum() # нормированная предпочтительность\n",
        "      \n",
        "      np.random.seed()\n",
        "      move = np_choice(a = neighbours, size = 1, p=norm_row)[0] # волшебство выбора\n",
        "      new_weight = old_weight / (len(neighbours) * norm_row[np.where(neighbours == move)])\n",
        "\n",
        "      return move, new_weight"
      ],
      "execution_count": 98,
      "outputs": []
    },
    {
      "cell_type": "code",
      "metadata": {
        "id": "aGAIS3ZSARjO",
        "colab": {
          "base_uri": "https://localhost:8080/"
        },
        "outputId": "2db0b91e-5ce8-4604-9de8-ed05db305415"
      },
      "source": [
        "weight_arr = []\n",
        "time_arr = []\n",
        "all_time = 0\n",
        "for i in range(0,50):\n",
        "  start = time.time()\n",
        "  ants = AntColony(G, n_ants = 35, n_best = 5, n_iterations = 20, decay = 0.95, max_moves = 100)\n",
        "  print (\"working... \", i)\n",
        "  shortest_path = ants.run()\n",
        "  work_time = time.time() - start\n",
        "  print (\"time:\", work_time)\n",
        "  weight_arr.append(ants.weights[0])\n",
        "  time_arr.append(work_time)\n",
        "  all_time = all_time + work_time"
      ],
      "execution_count": 99,
      "outputs": [
        {
          "output_type": "stream",
          "text": [
            "working...  0\n",
            "shortest: 9.0 weights: [0.00247683]\n",
            "time: 5.436213254928589\n",
            "working...  1\n",
            "shortest: 9.0 weights: [0.00460201]\n",
            "time: 5.070067882537842\n",
            "working...  2\n",
            "shortest: 9.0 weights: [0.00412821]\n",
            "time: 7.1567933559417725\n",
            "working...  3\n",
            "shortest: 11.0 weights: [0.00207637]\n",
            "time: 5.0462329387664795\n",
            "working...  4\n",
            "shortest: 9.0 weights: [0.00532385]\n",
            "time: 5.11150050163269\n",
            "working...  5\n",
            "shortest: 11.0 weights: [0.00206461]\n",
            "time: 6.123997211456299\n",
            "working...  6\n",
            "shortest: 11.0 weights: [0.00209712]\n",
            "time: 7.3387532234191895\n",
            "working...  7\n",
            "shortest: 9.0 weights: [0.00255296]\n",
            "time: 6.283928155899048\n",
            "working...  8\n",
            "shortest: 9.0 weights: [0.01569541]\n",
            "time: 6.084435224533081\n",
            "working...  9\n",
            "shortest: 11.0 weights: [0.00219506]\n",
            "time: 6.4601287841796875\n",
            "working...  10\n",
            "shortest: 9.0 weights: [0.0059897]\n",
            "time: 4.63750958442688\n",
            "working...  11\n",
            "shortest: 9.0 weights: [0.00406937]\n",
            "time: 4.874067306518555\n",
            "working...  12\n",
            "shortest: 9.0 weights: [0.00744481]\n",
            "time: 5.279510021209717\n",
            "working...  13\n",
            "shortest: 11.0 weights: [0.00207865]\n",
            "time: 5.634763956069946\n",
            "working...  14\n",
            "shortest: 9.0 weights: [0.00441348]\n",
            "time: 6.028954029083252\n",
            "working...  15\n",
            "shortest: 9.0 weights: [0.00251114]\n",
            "time: 4.7749011516571045\n",
            "working...  16\n",
            "shortest: 9.0 weights: [0.00230324]\n",
            "time: 5.215308427810669\n",
            "working...  17\n",
            "shortest: 9.0 weights: [0.00485301]\n",
            "time: 5.360758066177368\n",
            "working...  18\n",
            "shortest: 11.0 weights: [0.00205679]\n",
            "time: 6.2865660190582275\n",
            "working...  19\n",
            "shortest: 11.0 weights: [0.00208567]\n",
            "time: 5.3644700050354\n",
            "working...  20\n",
            "shortest: 9.0 weights: [0.00645257]\n",
            "time: 5.72090220451355\n",
            "working...  21\n",
            "shortest: 11.0 weights: [0.00214577]\n",
            "time: 8.103456497192383\n",
            "working...  22\n",
            "shortest: 9.0 weights: [0.0058469]\n",
            "time: 5.0691914558410645\n",
            "working...  23\n",
            "shortest: 12.0 weights: [8.9000956e-05]\n",
            "time: 9.3676278591156\n",
            "working...  24\n",
            "shortest: 9.0 weights: [0.0023596]\n",
            "time: 4.5202436447143555\n",
            "working...  25\n",
            "shortest: 9.0 weights: [0.0043722]\n",
            "time: 4.826185464859009\n",
            "working...  26\n",
            "shortest: 9.0 weights: [0.00249209]\n",
            "time: 5.748862028121948\n",
            "working...  27\n",
            "shortest: 9.0 weights: [0.00762686]\n",
            "time: 5.573490858078003\n",
            "working...  28\n",
            "shortest: 9.0 weights: [0.00597338]\n",
            "time: 5.7686567306518555\n",
            "working...  29\n",
            "shortest: 9.0 weights: [0.00482469]\n",
            "time: 8.194382190704346\n",
            "working...  30\n",
            "shortest: 11.0 weights: [0.00189232]\n",
            "time: 6.796574592590332\n",
            "working...  31\n",
            "shortest: 11.0 weights: [0.00212579]\n",
            "time: 6.887803792953491\n",
            "working...  32\n",
            "shortest: 9.0 weights: [0.00792708]\n",
            "time: 5.91505241394043\n",
            "working...  33\n",
            "shortest: 9.0 weights: [0.00331401]\n",
            "time: 5.531457901000977\n",
            "working...  34\n",
            "shortest: 9.0 weights: [0.00324535]\n",
            "time: 6.025136709213257\n",
            "working...  35\n",
            "shortest: 17.0 weights: [4.41743684e-06]\n",
            "time: 7.699693202972412\n",
            "working...  36\n",
            "shortest: 9.0 weights: [0.0035403]\n",
            "time: 5.823850631713867\n",
            "working...  37\n",
            "shortest: 9.0 weights: [0.00496521]\n",
            "time: 7.658157110214233\n",
            "working...  38\n",
            "shortest: 9.0 weights: [0.00772593]\n",
            "time: 4.58266544342041\n",
            "working...  39\n",
            "shortest: 11.0 weights: [0.0021635]\n",
            "time: 5.443845987319946\n",
            "working...  40\n",
            "shortest: 9.0 weights: [0.01500927]\n",
            "time: 6.930708408355713\n",
            "working...  41\n",
            "shortest: 9.0 weights: [0.00412283]\n",
            "time: 9.389243125915527\n",
            "working...  42\n",
            "shortest: 9.0 weights: [0.00255667]\n",
            "time: 6.541634559631348\n",
            "working...  43\n",
            "shortest: 11.0 weights: [0.00184308]\n",
            "time: 5.095877647399902\n",
            "working...  44\n",
            "shortest: 9.0 weights: [0.0074114]\n",
            "time: 7.539504289627075\n",
            "working...  45\n",
            "shortest: 11.0 weights: [0.00218582]\n",
            "time: 7.524169921875\n",
            "working...  46\n",
            "shortest: 11.0 weights: [0.00216578]\n",
            "time: 5.732208251953125\n",
            "working...  47\n",
            "shortest: 9.0 weights: [0.00362699]\n",
            "time: 5.693018674850464\n",
            "working...  48\n",
            "shortest: 9.0 weights: [0.00571713]\n",
            "time: 5.16948938369751\n",
            "working...  49\n",
            "shortest: 11.0 weights: [0.00203661]\n",
            "time: 5.547013521194458\n"
          ],
          "name": "stdout"
        }
      ]
    },
    {
      "cell_type": "code",
      "metadata": {
        "colab": {
          "base_uri": "https://localhost:8080/",
          "height": 299
        },
        "id": "tHUf8PZI49z_",
        "outputId": "67a20ed6-ae9d-463d-9e1d-6b386c08abff"
      },
      "source": [
        "plt.plot(weight_arr)\r\n",
        "plt.xlabel(\"Номер запуска алгоритма\")\r\n",
        "plt.ylabel(\"Суммарный вес дошедших\")\r\n",
        "plt.title(label=\"Муравьиный алгоритм. Веса\", fontsize=12, fontweight=18, pad=10)\r\n",
        "plt.show()"
      ],
      "execution_count": 111,
      "outputs": [
        {
          "output_type": "display_data",
          "data": {
            "image/png": "[encoded data removed]",
            "text/plain": [
              "<Figure size 432x288 with 1 Axes>"
            ]
          },
          "metadata": {
            "tags": [],
            "needs_background": "light"
          }
        }
      ]
    },
    {
      "cell_type": "code",
      "metadata": {
        "colab": {
          "base_uri": "https://localhost:8080/",
          "height": 283
        },
        "id": "XlJ-HM5dWX8y",
        "outputId": "9c9ababd-19eb-4880-a655-7d01d4beb45b"
      },
      "source": [
        "arr = []\r\n",
        "tmp = np.var(weight_arr)\r\n",
        "mean = np.mean(weight_arr)\r\n",
        "\r\n",
        "for i in range(0, len(weight_arr)):\r\n",
        "  if weight_arr[i] < mean:\r\n",
        "    arr.append(weight_arr[i])\r\n",
        "plt.plot(arr)\r\n",
        "plt.show\r\n",
        "print(tmp, \"fff\", mean)"
      ],
      "execution_count": 75,
      "outputs": [
        {
          "output_type": "stream",
          "text": [
            "2.052449694851651e-06 fff 0.0005122802322189786\n"
          ],
          "name": "stdout"
        },
        {
          "output_type": "display_data",
          "data": {
            "image/png": "[encoded data removed]",
            "text/plain": [
              "<Figure size 432x288 with 1 Axes>"
            ]
          },
          "metadata": {
            "tags": [],
            "needs_background": "light"
          }
        }
      ]
    },
    {
      "cell_type": "code",
      "metadata": {
        "colab": {
          "base_uri": "https://localhost:8080/",
          "height": 312
        },
        "id": "55cQZbzs5VGX",
        "outputId": "6beb6fe6-0dab-42aa-d6af-77a8c5a2f322"
      },
      "source": [
        "d = []\r\n",
        "da = []\r\n",
        "arr = []\r\n",
        "tmp = np.var(weight_arr)\r\n",
        "mean = np.mean(weight_arr)\r\n",
        "for i in range(0, len(weight_arr)-1):\r\n",
        "  if weight_arr[i] < 2.0*mean + 10.0*tmp:\r\n",
        "    arr.append(weight_arr[i])\r\n",
        "  else:\r\n",
        "    print(mean, \"+\", 10.0*tmp, \"-\", weight_arr[i], \"=\", mean + 1.0*tmp - weight_arr[i])\r\n",
        "\r\n",
        "for i in range(1, len(weight_arr)):\r\n",
        "    d.append(np.var(weight_arr[:i+1]))\r\n",
        "\r\n",
        "\r\n",
        "for i in range(1, len(arr)):\r\n",
        "    da.append(np.var(arr[:i+1]))"
      ],
      "execution_count": 104,
      "outputs": [
        {
          "output_type": "stream",
          "text": [
            "0.004135616631417681 + 9.053052225690694e-05 - 0.01569541363967593 = -0.011550743956032557\n",
            "0.004135616631417681 + 9.053052225690694e-05 - 0.015009265358990321 = -0.01086459567534695\n"
          ],
          "name": "stdout"
        },
        {
          "output_type": "display_data",
          "data": {
            "image/png": "[encoded data removed]",
            "text/plain": [
              "<Figure size 432x288 with 1 Axes>"
            ]
          },
          "metadata": {
            "tags": [],
            "needs_background": "light"
          }
        }
      ]
    },
    {
      "cell_type": "code",
      "metadata": {
        "colab": {
          "base_uri": "https://localhost:8080/",
          "height": 299
        },
        "id": "eKWD_17Heeos",
        "outputId": "1203face-dfc5-4f55-f306-2d9f87aea9b3"
      },
      "source": [
        "plt.plot(d)\r\n",
        "plt.plot(da)\r\n",
        "plt.xlabel(\"Номер запуска алгоритма\")\r\n",
        "plt.ylabel(\"Дисперсия весов\")\r\n",
        "plt.title(label=\"Муравьиный алгоритм. Дисперсия весов\", fontsize=12, fontweight=18, pad=10)\r\n",
        "plt.show()"
      ],
      "execution_count": 112,
      "outputs": [
        {
          "output_type": "display_data",
          "data": {
            "image/png": "[encoded data removed]",
            "text/plain": [
              "<Figure size 432x288 with 1 Axes>"
            ]
          },
          "metadata": {
            "tags": [],
            "needs_background": "light"
          }
        }
      ]
    },
    {
      "cell_type": "code",
      "metadata": {
        "colab": {
          "base_uri": "https://localhost:8080/"
        },
        "id": "Ri3Rn0ZVsEbx",
        "outputId": "6e4adbce-e43e-4a75-eba9-fb4c9eb02f09"
      },
      "source": [
        "print(\"Средний вес:\", np.mean(weight_arr))\r\n",
        "print(\"Среднее время:\", np.mean(time_arr))\r\n",
        "print(\"FOM1:\", 1/(np.mean(d)*np.mean(time_arr)))\r\n",
        "print(\"FOM2:\", 1/(np.mean(da)*np.mean(time_arr)))"
      ],
      "execution_count": 114,
      "outputs": [
        {
          "output_type": "stream",
          "text": [
            "Средний вес: 0.004135616631417681\n",
            "Среднее время: 6.079779272079468\n",
            "FOM1: 19289.651696559402\n",
            "FOM2: 54429.643814767645\n"
          ],
          "name": "stdout"
        }
      ]
    },
    {
      "cell_type": "code",
      "metadata": {
        "colab": {
          "base_uri": "https://localhost:8080/"
        },
        "id": "wJc12gJnl5ne",
        "outputId": "f3d779ca-e560-47c0-d6ce-971e896cad31"
      },
      "source": [
        "print(nx.dijkstra_path(G,0,1023))"
      ],
      "execution_count": 105,
      "outputs": [
        {
          "output_type": "stream",
          "text": [
            "[0, 886, 370, 608, 726, 822, 574, 36, 596, 1023]\n"
          ],
          "name": "stdout"
        }
      ]
    }
  ]
}